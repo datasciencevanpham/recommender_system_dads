{
 "cells": [
  {
   "cell_type": "code",
   "execution_count": 1,
   "id": "4b8714b9",
   "metadata": {},
   "outputs": [],
   "source": [
    "import pandas as pd\n",
    "\n",
    "url = \"https://raw.githubusercontent.com/JennyNguyen12/Trial_2/main/df_product.csv\"\n",
    "\n",
    "df = pd.read_csv(url)\n",
    "df.to_csv(\"df_product.csv\", index=False)"
   ]
  },
  {
   "cell_type": "code",
   "execution_count": 3,
   "id": "061677d7",
   "metadata": {
    "scrolled": false
   },
   "outputs": [
    {
     "name": "stderr",
     "output_type": "stream",
     "text": [
      "'unzip' is not recognized as an internal or external command,\n",
      "operable program or batch file.\n"
     ]
    }
   ],
   "source": [
    "# !unzip \"Project2_products_recommend_all_final_Streamlit_NOTNULL_finaljson.zip\""
   ]
  },
  {
   "cell_type": "code",
   "execution_count": 7,
   "id": "28242edb",
   "metadata": {},
   "outputs": [],
   "source": [
    "import pandas as pd\n",
    "import json"
   ]
  },
  {
   "cell_type": "code",
   "execution_count": 8,
   "id": "f5c2f958",
   "metadata": {
    "scrolled": true
   },
   "outputs": [
    {
     "ename": "PermissionError",
     "evalue": "[Errno 13] Permission denied: 'Project2_products_recommend_all_final_Streamlit_NOTNULL_final.json'",
     "output_type": "error",
     "traceback": [
      "\u001b[1;31m---------------------------------------------------------------------------\u001b[0m",
      "\u001b[1;31mPermissionError\u001b[0m                           Traceback (most recent call last)",
      "Input \u001b[1;32mIn [8]\u001b[0m, in \u001b[0;36m<cell line: 2>\u001b[1;34m()\u001b[0m\n\u001b[0;32m      1\u001b[0m \u001b[38;5;66;03m# Đọc file JSON vào DataFrame\u001b[39;00m\n\u001b[1;32m----> 2\u001b[0m df \u001b[38;5;241m=\u001b[39m \u001b[43mpd\u001b[49m\u001b[38;5;241;43m.\u001b[39;49m\u001b[43mread_json\u001b[49m\u001b[43m(\u001b[49m\u001b[38;5;124;43m'\u001b[39;49m\u001b[38;5;124;43mProject2_products_recommend_all_final_Streamlit_NOTNULL_final.json\u001b[39;49m\u001b[38;5;124;43m'\u001b[39;49m\u001b[43m)\u001b[49m\n\u001b[0;32m      4\u001b[0m \u001b[38;5;66;03m# In ra 5 dòng đầu tiên của DataFrame\u001b[39;00m\n\u001b[0;32m      5\u001b[0m \u001b[38;5;28mprint\u001b[39m(df\u001b[38;5;241m.\u001b[39mhead())\n",
      "File \u001b[1;32m~\\AppData\\Local\\Programs\\Python\\Python39\\lib\\site-packages\\pandas\\util\\_decorators.py:211\u001b[0m, in \u001b[0;36mdeprecate_kwarg.<locals>._deprecate_kwarg.<locals>.wrapper\u001b[1;34m(*args, **kwargs)\u001b[0m\n\u001b[0;32m    209\u001b[0m     \u001b[38;5;28;01melse\u001b[39;00m:\n\u001b[0;32m    210\u001b[0m         kwargs[new_arg_name] \u001b[38;5;241m=\u001b[39m new_arg_value\n\u001b[1;32m--> 211\u001b[0m \u001b[38;5;28;01mreturn\u001b[39;00m func(\u001b[38;5;241m*\u001b[39margs, \u001b[38;5;241m*\u001b[39m\u001b[38;5;241m*\u001b[39mkwargs)\n",
      "File \u001b[1;32m~\\AppData\\Local\\Programs\\Python\\Python39\\lib\\site-packages\\pandas\\util\\_decorators.py:331\u001b[0m, in \u001b[0;36mdeprecate_nonkeyword_arguments.<locals>.decorate.<locals>.wrapper\u001b[1;34m(*args, **kwargs)\u001b[0m\n\u001b[0;32m    325\u001b[0m \u001b[38;5;28;01mif\u001b[39;00m \u001b[38;5;28mlen\u001b[39m(args) \u001b[38;5;241m>\u001b[39m num_allow_args:\n\u001b[0;32m    326\u001b[0m     warnings\u001b[38;5;241m.\u001b[39mwarn(\n\u001b[0;32m    327\u001b[0m         msg\u001b[38;5;241m.\u001b[39mformat(arguments\u001b[38;5;241m=\u001b[39m_format_argument_list(allow_args)),\n\u001b[0;32m    328\u001b[0m         \u001b[38;5;167;01mFutureWarning\u001b[39;00m,\n\u001b[0;32m    329\u001b[0m         stacklevel\u001b[38;5;241m=\u001b[39mfind_stack_level(),\n\u001b[0;32m    330\u001b[0m     )\n\u001b[1;32m--> 331\u001b[0m \u001b[38;5;28;01mreturn\u001b[39;00m func(\u001b[38;5;241m*\u001b[39margs, \u001b[38;5;241m*\u001b[39m\u001b[38;5;241m*\u001b[39mkwargs)\n",
      "File \u001b[1;32m~\\AppData\\Local\\Programs\\Python\\Python39\\lib\\site-packages\\pandas\\io\\json\\_json.py:733\u001b[0m, in \u001b[0;36mread_json\u001b[1;34m(path_or_buf, orient, typ, dtype, convert_axes, convert_dates, keep_default_dates, numpy, precise_float, date_unit, encoding, encoding_errors, lines, chunksize, compression, nrows, storage_options)\u001b[0m\n\u001b[0;32m    730\u001b[0m \u001b[38;5;28;01mif\u001b[39;00m convert_axes \u001b[38;5;129;01mis\u001b[39;00m \u001b[38;5;28;01mNone\u001b[39;00m \u001b[38;5;129;01mand\u001b[39;00m orient \u001b[38;5;241m!=\u001b[39m \u001b[38;5;124m\"\u001b[39m\u001b[38;5;124mtable\u001b[39m\u001b[38;5;124m\"\u001b[39m:\n\u001b[0;32m    731\u001b[0m     convert_axes \u001b[38;5;241m=\u001b[39m \u001b[38;5;28;01mTrue\u001b[39;00m\n\u001b[1;32m--> 733\u001b[0m json_reader \u001b[38;5;241m=\u001b[39m \u001b[43mJsonReader\u001b[49m\u001b[43m(\u001b[49m\n\u001b[0;32m    734\u001b[0m \u001b[43m    \u001b[49m\u001b[43mpath_or_buf\u001b[49m\u001b[43m,\u001b[49m\n\u001b[0;32m    735\u001b[0m \u001b[43m    \u001b[49m\u001b[43morient\u001b[49m\u001b[38;5;241;43m=\u001b[39;49m\u001b[43morient\u001b[49m\u001b[43m,\u001b[49m\n\u001b[0;32m    736\u001b[0m \u001b[43m    \u001b[49m\u001b[43mtyp\u001b[49m\u001b[38;5;241;43m=\u001b[39;49m\u001b[43mtyp\u001b[49m\u001b[43m,\u001b[49m\n\u001b[0;32m    737\u001b[0m \u001b[43m    \u001b[49m\u001b[43mdtype\u001b[49m\u001b[38;5;241;43m=\u001b[39;49m\u001b[43mdtype\u001b[49m\u001b[43m,\u001b[49m\n\u001b[0;32m    738\u001b[0m \u001b[43m    \u001b[49m\u001b[43mconvert_axes\u001b[49m\u001b[38;5;241;43m=\u001b[39;49m\u001b[43mconvert_axes\u001b[49m\u001b[43m,\u001b[49m\n\u001b[0;32m    739\u001b[0m \u001b[43m    \u001b[49m\u001b[43mconvert_dates\u001b[49m\u001b[38;5;241;43m=\u001b[39;49m\u001b[43mconvert_dates\u001b[49m\u001b[43m,\u001b[49m\n\u001b[0;32m    740\u001b[0m \u001b[43m    \u001b[49m\u001b[43mkeep_default_dates\u001b[49m\u001b[38;5;241;43m=\u001b[39;49m\u001b[43mkeep_default_dates\u001b[49m\u001b[43m,\u001b[49m\n\u001b[0;32m    741\u001b[0m \u001b[43m    \u001b[49m\u001b[43mnumpy\u001b[49m\u001b[38;5;241;43m=\u001b[39;49m\u001b[43mnumpy\u001b[49m\u001b[43m,\u001b[49m\n\u001b[0;32m    742\u001b[0m \u001b[43m    \u001b[49m\u001b[43mprecise_float\u001b[49m\u001b[38;5;241;43m=\u001b[39;49m\u001b[43mprecise_float\u001b[49m\u001b[43m,\u001b[49m\n\u001b[0;32m    743\u001b[0m \u001b[43m    \u001b[49m\u001b[43mdate_unit\u001b[49m\u001b[38;5;241;43m=\u001b[39;49m\u001b[43mdate_unit\u001b[49m\u001b[43m,\u001b[49m\n\u001b[0;32m    744\u001b[0m \u001b[43m    \u001b[49m\u001b[43mencoding\u001b[49m\u001b[38;5;241;43m=\u001b[39;49m\u001b[43mencoding\u001b[49m\u001b[43m,\u001b[49m\n\u001b[0;32m    745\u001b[0m \u001b[43m    \u001b[49m\u001b[43mlines\u001b[49m\u001b[38;5;241;43m=\u001b[39;49m\u001b[43mlines\u001b[49m\u001b[43m,\u001b[49m\n\u001b[0;32m    746\u001b[0m \u001b[43m    \u001b[49m\u001b[43mchunksize\u001b[49m\u001b[38;5;241;43m=\u001b[39;49m\u001b[43mchunksize\u001b[49m\u001b[43m,\u001b[49m\n\u001b[0;32m    747\u001b[0m \u001b[43m    \u001b[49m\u001b[43mcompression\u001b[49m\u001b[38;5;241;43m=\u001b[39;49m\u001b[43mcompression\u001b[49m\u001b[43m,\u001b[49m\n\u001b[0;32m    748\u001b[0m \u001b[43m    \u001b[49m\u001b[43mnrows\u001b[49m\u001b[38;5;241;43m=\u001b[39;49m\u001b[43mnrows\u001b[49m\u001b[43m,\u001b[49m\n\u001b[0;32m    749\u001b[0m \u001b[43m    \u001b[49m\u001b[43mstorage_options\u001b[49m\u001b[38;5;241;43m=\u001b[39;49m\u001b[43mstorage_options\u001b[49m\u001b[43m,\u001b[49m\n\u001b[0;32m    750\u001b[0m \u001b[43m    \u001b[49m\u001b[43mencoding_errors\u001b[49m\u001b[38;5;241;43m=\u001b[39;49m\u001b[43mencoding_errors\u001b[49m\u001b[43m,\u001b[49m\n\u001b[0;32m    751\u001b[0m \u001b[43m\u001b[49m\u001b[43m)\u001b[49m\n\u001b[0;32m    753\u001b[0m \u001b[38;5;28;01mif\u001b[39;00m chunksize:\n\u001b[0;32m    754\u001b[0m     \u001b[38;5;28;01mreturn\u001b[39;00m json_reader\n",
      "File \u001b[1;32m~\\AppData\\Local\\Programs\\Python\\Python39\\lib\\site-packages\\pandas\\io\\json\\_json.py:818\u001b[0m, in \u001b[0;36mJsonReader.__init__\u001b[1;34m(self, filepath_or_buffer, orient, typ, dtype, convert_axes, convert_dates, keep_default_dates, numpy, precise_float, date_unit, encoding, lines, chunksize, compression, nrows, storage_options, encoding_errors)\u001b[0m\n\u001b[0;32m    815\u001b[0m     \u001b[38;5;28;01mif\u001b[39;00m \u001b[38;5;129;01mnot\u001b[39;00m \u001b[38;5;28mself\u001b[39m\u001b[38;5;241m.\u001b[39mlines:\n\u001b[0;32m    816\u001b[0m         \u001b[38;5;28;01mraise\u001b[39;00m \u001b[38;5;167;01mValueError\u001b[39;00m(\u001b[38;5;124m\"\u001b[39m\u001b[38;5;124mnrows can only be passed if lines=True\u001b[39m\u001b[38;5;124m\"\u001b[39m)\n\u001b[1;32m--> 818\u001b[0m data \u001b[38;5;241m=\u001b[39m \u001b[38;5;28;43mself\u001b[39;49m\u001b[38;5;241;43m.\u001b[39;49m\u001b[43m_get_data_from_filepath\u001b[49m\u001b[43m(\u001b[49m\u001b[43mfilepath_or_buffer\u001b[49m\u001b[43m)\u001b[49m\n\u001b[0;32m    819\u001b[0m \u001b[38;5;28mself\u001b[39m\u001b[38;5;241m.\u001b[39mdata \u001b[38;5;241m=\u001b[39m \u001b[38;5;28mself\u001b[39m\u001b[38;5;241m.\u001b[39m_preprocess_data(data)\n",
      "File \u001b[1;32m~\\AppData\\Local\\Programs\\Python\\Python39\\lib\\site-packages\\pandas\\io\\json\\_json.py:858\u001b[0m, in \u001b[0;36mJsonReader._get_data_from_filepath\u001b[1;34m(self, filepath_or_buffer)\u001b[0m\n\u001b[0;32m    851\u001b[0m filepath_or_buffer \u001b[38;5;241m=\u001b[39m stringify_path(filepath_or_buffer)\n\u001b[0;32m    852\u001b[0m \u001b[38;5;28;01mif\u001b[39;00m (\n\u001b[0;32m    853\u001b[0m     \u001b[38;5;129;01mnot\u001b[39;00m \u001b[38;5;28misinstance\u001b[39m(filepath_or_buffer, \u001b[38;5;28mstr\u001b[39m)\n\u001b[0;32m    854\u001b[0m     \u001b[38;5;129;01mor\u001b[39;00m is_url(filepath_or_buffer)\n\u001b[0;32m    855\u001b[0m     \u001b[38;5;129;01mor\u001b[39;00m is_fsspec_url(filepath_or_buffer)\n\u001b[0;32m    856\u001b[0m     \u001b[38;5;129;01mor\u001b[39;00m file_exists(filepath_or_buffer)\n\u001b[0;32m    857\u001b[0m ):\n\u001b[1;32m--> 858\u001b[0m     \u001b[38;5;28mself\u001b[39m\u001b[38;5;241m.\u001b[39mhandles \u001b[38;5;241m=\u001b[39m \u001b[43mget_handle\u001b[49m\u001b[43m(\u001b[49m\n\u001b[0;32m    859\u001b[0m \u001b[43m        \u001b[49m\u001b[43mfilepath_or_buffer\u001b[49m\u001b[43m,\u001b[49m\n\u001b[0;32m    860\u001b[0m \u001b[43m        \u001b[49m\u001b[38;5;124;43m\"\u001b[39;49m\u001b[38;5;124;43mr\u001b[39;49m\u001b[38;5;124;43m\"\u001b[39;49m\u001b[43m,\u001b[49m\n\u001b[0;32m    861\u001b[0m \u001b[43m        \u001b[49m\u001b[43mencoding\u001b[49m\u001b[38;5;241;43m=\u001b[39;49m\u001b[38;5;28;43mself\u001b[39;49m\u001b[38;5;241;43m.\u001b[39;49m\u001b[43mencoding\u001b[49m\u001b[43m,\u001b[49m\n\u001b[0;32m    862\u001b[0m \u001b[43m        \u001b[49m\u001b[43mcompression\u001b[49m\u001b[38;5;241;43m=\u001b[39;49m\u001b[38;5;28;43mself\u001b[39;49m\u001b[38;5;241;43m.\u001b[39;49m\u001b[43mcompression\u001b[49m\u001b[43m,\u001b[49m\n\u001b[0;32m    863\u001b[0m \u001b[43m        \u001b[49m\u001b[43mstorage_options\u001b[49m\u001b[38;5;241;43m=\u001b[39;49m\u001b[38;5;28;43mself\u001b[39;49m\u001b[38;5;241;43m.\u001b[39;49m\u001b[43mstorage_options\u001b[49m\u001b[43m,\u001b[49m\n\u001b[0;32m    864\u001b[0m \u001b[43m        \u001b[49m\u001b[43merrors\u001b[49m\u001b[38;5;241;43m=\u001b[39;49m\u001b[38;5;28;43mself\u001b[39;49m\u001b[38;5;241;43m.\u001b[39;49m\u001b[43mencoding_errors\u001b[49m\u001b[43m,\u001b[49m\n\u001b[0;32m    865\u001b[0m \u001b[43m    \u001b[49m\u001b[43m)\u001b[49m\n\u001b[0;32m    866\u001b[0m     filepath_or_buffer \u001b[38;5;241m=\u001b[39m \u001b[38;5;28mself\u001b[39m\u001b[38;5;241m.\u001b[39mhandles\u001b[38;5;241m.\u001b[39mhandle\n\u001b[0;32m    867\u001b[0m \u001b[38;5;28;01melif\u001b[39;00m (\n\u001b[0;32m    868\u001b[0m     \u001b[38;5;28misinstance\u001b[39m(filepath_or_buffer, \u001b[38;5;28mstr\u001b[39m)\n\u001b[0;32m    869\u001b[0m     \u001b[38;5;129;01mand\u001b[39;00m filepath_or_buffer\u001b[38;5;241m.\u001b[39mlower()\u001b[38;5;241m.\u001b[39mendswith(\n\u001b[1;32m   (...)\u001b[0m\n\u001b[0;32m    872\u001b[0m     \u001b[38;5;129;01mand\u001b[39;00m \u001b[38;5;129;01mnot\u001b[39;00m file_exists(filepath_or_buffer)\n\u001b[0;32m    873\u001b[0m ):\n",
      "File \u001b[1;32m~\\AppData\\Local\\Programs\\Python\\Python39\\lib\\site-packages\\pandas\\io\\common.py:856\u001b[0m, in \u001b[0;36mget_handle\u001b[1;34m(path_or_buf, mode, encoding, compression, memory_map, is_text, errors, storage_options)\u001b[0m\n\u001b[0;32m    851\u001b[0m \u001b[38;5;28;01melif\u001b[39;00m \u001b[38;5;28misinstance\u001b[39m(handle, \u001b[38;5;28mstr\u001b[39m):\n\u001b[0;32m    852\u001b[0m     \u001b[38;5;66;03m# Check whether the filename is to be opened in binary mode.\u001b[39;00m\n\u001b[0;32m    853\u001b[0m     \u001b[38;5;66;03m# Binary mode does not support 'encoding' and 'newline'.\u001b[39;00m\n\u001b[0;32m    854\u001b[0m     \u001b[38;5;28;01mif\u001b[39;00m ioargs\u001b[38;5;241m.\u001b[39mencoding \u001b[38;5;129;01mand\u001b[39;00m \u001b[38;5;124m\"\u001b[39m\u001b[38;5;124mb\u001b[39m\u001b[38;5;124m\"\u001b[39m \u001b[38;5;129;01mnot\u001b[39;00m \u001b[38;5;129;01min\u001b[39;00m ioargs\u001b[38;5;241m.\u001b[39mmode:\n\u001b[0;32m    855\u001b[0m         \u001b[38;5;66;03m# Encoding\u001b[39;00m\n\u001b[1;32m--> 856\u001b[0m         handle \u001b[38;5;241m=\u001b[39m \u001b[38;5;28;43mopen\u001b[39;49m\u001b[43m(\u001b[49m\n\u001b[0;32m    857\u001b[0m \u001b[43m            \u001b[49m\u001b[43mhandle\u001b[49m\u001b[43m,\u001b[49m\n\u001b[0;32m    858\u001b[0m \u001b[43m            \u001b[49m\u001b[43mioargs\u001b[49m\u001b[38;5;241;43m.\u001b[39;49m\u001b[43mmode\u001b[49m\u001b[43m,\u001b[49m\n\u001b[0;32m    859\u001b[0m \u001b[43m            \u001b[49m\u001b[43mencoding\u001b[49m\u001b[38;5;241;43m=\u001b[39;49m\u001b[43mioargs\u001b[49m\u001b[38;5;241;43m.\u001b[39;49m\u001b[43mencoding\u001b[49m\u001b[43m,\u001b[49m\n\u001b[0;32m    860\u001b[0m \u001b[43m            \u001b[49m\u001b[43merrors\u001b[49m\u001b[38;5;241;43m=\u001b[39;49m\u001b[43merrors\u001b[49m\u001b[43m,\u001b[49m\n\u001b[0;32m    861\u001b[0m \u001b[43m            \u001b[49m\u001b[43mnewline\u001b[49m\u001b[38;5;241;43m=\u001b[39;49m\u001b[38;5;124;43m\"\u001b[39;49m\u001b[38;5;124;43m\"\u001b[39;49m\u001b[43m,\u001b[49m\n\u001b[0;32m    862\u001b[0m \u001b[43m        \u001b[49m\u001b[43m)\u001b[49m\n\u001b[0;32m    863\u001b[0m     \u001b[38;5;28;01melse\u001b[39;00m:\n\u001b[0;32m    864\u001b[0m         \u001b[38;5;66;03m# Binary mode\u001b[39;00m\n\u001b[0;32m    865\u001b[0m         handle \u001b[38;5;241m=\u001b[39m \u001b[38;5;28mopen\u001b[39m(handle, ioargs\u001b[38;5;241m.\u001b[39mmode)\n",
      "\u001b[1;31mPermissionError\u001b[0m: [Errno 13] Permission denied: 'Project2_products_recommend_all_final_Streamlit_NOTNULL_final.json'"
     ]
    }
   ],
   "source": [
    "# Đọc file JSON vào DataFrame\n",
    "df = pd.read_json('Project2_products_recommend_all_final_Streamlit_NOTNULL_final.json')\n",
    "\n",
    "# In ra 5 dòng đầu tiên của DataFrame\n",
    "print(df.head())"
   ]
  },
  {
   "cell_type": "code",
   "execution_count": 9,
   "id": "d135d5b9",
   "metadata": {},
   "outputs": [
    {
     "ename": "PermissionError",
     "evalue": "[Errno 13] Permission denied: 'Project2_products_recommend_all_final_Streamlit_NOTNULL_final.json'",
     "output_type": "error",
     "traceback": [
      "\u001b[1;31m---------------------------------------------------------------------------\u001b[0m",
      "\u001b[1;31mPermissionError\u001b[0m                           Traceback (most recent call last)",
      "Input \u001b[1;32mIn [9]\u001b[0m, in \u001b[0;36m<cell line: 3>\u001b[1;34m()\u001b[0m\n\u001b[0;32m      1\u001b[0m \u001b[38;5;28;01mimport\u001b[39;00m \u001b[38;5;21;01mjson\u001b[39;00m\n\u001b[1;32m----> 3\u001b[0m \u001b[38;5;28;01mwith\u001b[39;00m \u001b[38;5;28;43mopen\u001b[39;49m\u001b[43m(\u001b[49m\u001b[38;5;124;43m'\u001b[39;49m\u001b[38;5;124;43mProject2_products_recommend_all_final_Streamlit_NOTNULL_final.json\u001b[39;49m\u001b[38;5;124;43m'\u001b[39;49m\u001b[43m,\u001b[49m\u001b[43m \u001b[49m\u001b[38;5;124;43m\"\u001b[39;49m\u001b[38;5;124;43mr\u001b[39;49m\u001b[38;5;124;43m\"\u001b[39;49m\u001b[43m)\u001b[49m \u001b[38;5;28;01mas\u001b[39;00m fh:\n\u001b[0;32m      5\u001b[0m     data \u001b[38;5;241m=\u001b[39m json\u001b[38;5;241m.\u001b[39mload(fh)\n\u001b[0;32m      7\u001b[0m     \u001b[38;5;28;01mfor\u001b[39;00m i \u001b[38;5;129;01min\u001b[39;00m data:\n",
      "\u001b[1;31mPermissionError\u001b[0m: [Errno 13] Permission denied: 'Project2_products_recommend_all_final_Streamlit_NOTNULL_final.json'"
     ]
    }
   ],
   "source": [
    "import json\n",
    "\n",
    "with open('Project2_products_recommend_all_final_Streamlit_NOTNULL_final.json', \"r\") as fh:\n",
    "\n",
    "    data = json.load(fh)\n",
    "\n",
    "    for i in data:\n",
    "        print(i)"
   ]
  },
  {
   "cell_type": "code",
   "execution_count": 10,
   "id": "4d3982c4",
   "metadata": {},
   "outputs": [],
   "source": [
    "import findspark\n",
    "findspark.init()\n",
    "\n",
    "from pyspark.sql import SparkSession\n",
    "\n",
    "spark = SparkSession.builder.appName('ReadJson').getOrCreate()"
   ]
  },
  {
   "cell_type": "code",
   "execution_count": 11,
   "id": "4bb06d54",
   "metadata": {},
   "outputs": [],
   "source": [
    "df = spark.read.json('Project2_products_recommend_all_final_Streamlit_NOTNULL_final.json')"
   ]
  },
  {
   "cell_type": "code",
   "execution_count": 12,
   "id": "d26330ec",
   "metadata": {},
   "outputs": [
    {
     "name": "stdout",
     "output_type": "stream",
     "text": [
      "+-----------------+-----------+---------------+--------------------+--------+----------+--------------------+\n",
      "|            brand|customer_id|customer_rating|               image|   price|product_id|        product_name|\n",
      "+-----------------+-----------+---------------+--------------------+--------+----------+--------------------+\n",
      "|         Fujifilm|         10|       4.892902|https://salt.tiki...|12790000|  15287960|Ống Kính Fujifilm...|\n",
      "|Việt Star Quốc Tế|         10|       4.885509|https://salt.tiki...|  354000|  67985251|Camera Ip Giám Sá...|\n",
      "|            Nexus|         10|       4.831678|https://salt.tiki...|  590000|  73844240|Case máy tính MIK...|\n",
      "|          SanDisk|         10|      4.7995887|https://salt.tiki...|  450000|   8321616|Thẻ nhớ MicroSDXC...|\n",
      "|               WD|         10|       4.797944|https://salt.tiki...| 2590000|  49729049|\"Ổ Cứng Di Dộng H...|\n",
      "|          Samsung|         10|       4.793425|https://salt.tiki...|22890000|  50592901|Smart Tivi QLED S...|\n",
      "|              MJX|         10|       4.781898|https://salt.tiki...| 3450000|  66251373|Flycam Bugs 20 EI...|\n",
      "|           Vsmart|         10|      4.7636733|https://salt.tiki...| 3270000|  71082242|Điện thoại Vsmart...|\n",
      "|            EZVIZ|         10|       4.759371|https://salt.tiki...|  599000|  71293311|Trọn bộ Camera Ip...|\n",
      "|            Apple|         10|      4.7501945|https://salt.tiki...|14990000|  74558974|iPad Air 10.5 Wi-...|\n",
      "|              MJX|         27|       5.094429|https://salt.tiki...| 3450000|  66251373|Flycam Bugs 20 EI...|\n",
      "|         Fujifilm|         27|      5.0082827|https://salt.tiki...|12790000|  15287960|Ống Kính Fujifilm...|\n",
      "|Việt Star Quốc Tế|         27|      5.0073586|https://salt.tiki...|  354000|  67985251|Camera Ip Giám Sá...|\n",
      "|           Vsmart|         27|       4.941138|https://salt.tiki...| 3270000|  71082242|Điện thoại Vsmart...|\n",
      "|          Samsung|         27|       4.917313|https://salt.tiki...|22890000|  50592901|Smart Tivi QLED S...|\n",
      "|     CoolerMaster|         27|      4.9169455|https://salt.tiki...| 4990000|  50179247|\"Màn hình cong Co...|\n",
      "|               WD|         27|      4.9097347|https://salt.tiki...| 2590000|  49729049|\"Ổ Cứng Di Dộng H...|\n",
      "|            Apple|         27|      4.8878536|https://salt.tiki...|18490000|  68174409|iPad Air 10.9 Wi-...|\n",
      "|          Samsung|         27|       4.878255|https://salt.tiki...| 1850000|  44012841|RAM Laptop Samsun...|\n",
      "|            Nexus|         27|        4.87564|https://salt.tiki...|  590000|  73844240|Case máy tính MIK...|\n",
      "+-----------------+-----------+---------------+--------------------+--------+----------+--------------------+\n",
      "only showing top 20 rows\n",
      "\n"
     ]
    }
   ],
   "source": [
    "df.show()"
   ]
  },
  {
   "cell_type": "code",
   "execution_count": 14,
   "id": "03ed3aa3",
   "metadata": {},
   "outputs": [],
   "source": [
    "df_p = df.toPandas()"
   ]
  },
  {
   "cell_type": "code",
   "execution_count": 16,
   "id": "2b5aa181",
   "metadata": {
    "scrolled": true
   },
   "outputs": [
    {
     "data": {
      "text/html": [
       "<div>\n",
       "<style scoped>\n",
       "    .dataframe tbody tr th:only-of-type {\n",
       "        vertical-align: middle;\n",
       "    }\n",
       "\n",
       "    .dataframe tbody tr th {\n",
       "        vertical-align: top;\n",
       "    }\n",
       "\n",
       "    .dataframe thead th {\n",
       "        text-align: right;\n",
       "    }\n",
       "</style>\n",
       "<table border=\"1\" class=\"dataframe\">\n",
       "  <thead>\n",
       "    <tr style=\"text-align: right;\">\n",
       "      <th></th>\n",
       "      <th>brand</th>\n",
       "      <th>customer_id</th>\n",
       "      <th>customer_rating</th>\n",
       "      <th>image</th>\n",
       "      <th>price</th>\n",
       "      <th>product_id</th>\n",
       "      <th>product_name</th>\n",
       "    </tr>\n",
       "  </thead>\n",
       "  <tbody>\n",
       "    <tr>\n",
       "      <th>0</th>\n",
       "      <td>Fujifilm</td>\n",
       "      <td>10</td>\n",
       "      <td>4.892902</td>\n",
       "      <td>https://salt.tikicdn.com/cache/280x280/ts/prod...</td>\n",
       "      <td>12790000</td>\n",
       "      <td>15287960</td>\n",
       "      <td>Ống Kính Fujifilm Fujinon 35mm F/1.4 R - Hàng ...</td>\n",
       "    </tr>\n",
       "    <tr>\n",
       "      <th>1</th>\n",
       "      <td>Việt Star Quốc Tế</td>\n",
       "      <td>10</td>\n",
       "      <td>4.885509</td>\n",
       "      <td>https://salt.tikicdn.com/cache/280x280/ts/prod...</td>\n",
       "      <td>354000</td>\n",
       "      <td>67985251</td>\n",
       "      <td>Camera Ip Giám Sát An Ninh Trong Nhà CC2020, 2...</td>\n",
       "    </tr>\n",
       "    <tr>\n",
       "      <th>2</th>\n",
       "      <td>Nexus</td>\n",
       "      <td>10</td>\n",
       "      <td>4.831678</td>\n",
       "      <td>https://salt.tikicdn.com/cache/280x280/ts/prod...</td>\n",
       "      <td>590000</td>\n",
       "      <td>73844240</td>\n",
       "      <td>Case máy tính MIK Nexus M - Hàng Chính Hãng</td>\n",
       "    </tr>\n",
       "    <tr>\n",
       "      <th>3</th>\n",
       "      <td>SanDisk</td>\n",
       "      <td>10</td>\n",
       "      <td>4.799589</td>\n",
       "      <td>https://salt.tikicdn.com/cache/280x280/ts/prod...</td>\n",
       "      <td>450000</td>\n",
       "      <td>8321616</td>\n",
       "      <td>Thẻ nhớ MicroSDXC SanDisk Extreme Pro 64GB 170...</td>\n",
       "    </tr>\n",
       "    <tr>\n",
       "      <th>4</th>\n",
       "      <td>WD</td>\n",
       "      <td>10</td>\n",
       "      <td>4.797944</td>\n",
       "      <td>https://salt.tikicdn.com/cache/280x280/ts/prod...</td>\n",
       "      <td>2590000</td>\n",
       "      <td>49729049</td>\n",
       "      <td>\"Ổ Cứng Di Dộng HDD WD My Passport 2TB 2.5\"\" U...</td>\n",
       "    </tr>\n",
       "  </tbody>\n",
       "</table>\n",
       "</div>"
      ],
      "text/plain": [
       "               brand  customer_id  customer_rating  \\\n",
       "0           Fujifilm           10         4.892902   \n",
       "1  Việt Star Quốc Tế           10         4.885509   \n",
       "2              Nexus           10         4.831678   \n",
       "3            SanDisk           10         4.799589   \n",
       "4                 WD           10         4.797944   \n",
       "\n",
       "                                               image     price  product_id  \\\n",
       "0  https://salt.tikicdn.com/cache/280x280/ts/prod...  12790000    15287960   \n",
       "1  https://salt.tikicdn.com/cache/280x280/ts/prod...    354000    67985251   \n",
       "2  https://salt.tikicdn.com/cache/280x280/ts/prod...    590000    73844240   \n",
       "3  https://salt.tikicdn.com/cache/280x280/ts/prod...    450000     8321616   \n",
       "4  https://salt.tikicdn.com/cache/280x280/ts/prod...   2590000    49729049   \n",
       "\n",
       "                                        product_name  \n",
       "0  Ống Kính Fujifilm Fujinon 35mm F/1.4 R - Hàng ...  \n",
       "1  Camera Ip Giám Sát An Ninh Trong Nhà CC2020, 2...  \n",
       "2        Case máy tính MIK Nexus M - Hàng Chính Hãng  \n",
       "3  Thẻ nhớ MicroSDXC SanDisk Extreme Pro 64GB 170...  \n",
       "4  \"Ổ Cứng Di Dộng HDD WD My Passport 2TB 2.5\"\" U...  "
      ]
     },
     "execution_count": 16,
     "metadata": {},
     "output_type": "execute_result"
    }
   ],
   "source": [
    "df_p.head()"
   ]
  },
  {
   "cell_type": "code",
   "execution_count": 18,
   "id": "ee05714f",
   "metadata": {},
   "outputs": [
    {
     "data": {
      "text/plain": [
       "(2118616, 7)"
      ]
     },
     "execution_count": 18,
     "metadata": {},
     "output_type": "execute_result"
    }
   ],
   "source": [
    "df_p.shape"
   ]
  },
  {
   "cell_type": "code",
   "execution_count": 33,
   "id": "941420aa",
   "metadata": {},
   "outputs": [
    {
     "data": {
      "text/plain": [
       "Index(['brand', 'customer_id', 'customer_rating', 'image', 'price',\n",
       "       'product_id', 'product_name'],\n",
       "      dtype='object')"
      ]
     },
     "execution_count": 33,
     "metadata": {},
     "output_type": "execute_result"
    }
   ],
   "source": [
    "df_p.columns"
   ]
  },
  {
   "cell_type": "code",
   "execution_count": 19,
   "id": "9a826ce2",
   "metadata": {},
   "outputs": [],
   "source": [
    "df_p.to_csv(\"df_review_full.csv\", index=False, header=True)"
   ]
  },
  {
   "cell_type": "code",
   "execution_count": 20,
   "id": "bef07504",
   "metadata": {},
   "outputs": [],
   "source": [
    "df_50 = pd.read_csv(\"df_collab_50.csv\")"
   ]
  },
  {
   "cell_type": "code",
   "execution_count": 21,
   "id": "4abe6cb0",
   "metadata": {},
   "outputs": [
    {
     "data": {
      "text/html": [
       "<div>\n",
       "<style scoped>\n",
       "    .dataframe tbody tr th:only-of-type {\n",
       "        vertical-align: middle;\n",
       "    }\n",
       "\n",
       "    .dataframe tbody tr th {\n",
       "        vertical-align: top;\n",
       "    }\n",
       "\n",
       "    .dataframe thead th {\n",
       "        text-align: right;\n",
       "    }\n",
       "</style>\n",
       "<table border=\"1\" class=\"dataframe\">\n",
       "  <thead>\n",
       "    <tr style=\"text-align: right;\">\n",
       "      <th></th>\n",
       "      <th>Unnamed: 0.2</th>\n",
       "      <th>Unnamed: 0</th>\n",
       "      <th>Unnamed: 0.1</th>\n",
       "      <th>customer_id</th>\n",
       "      <th>product_id</th>\n",
       "      <th>customer_rating</th>\n",
       "      <th>description</th>\n",
       "      <th>price</th>\n",
       "      <th>image</th>\n",
       "      <th>customer_name</th>\n",
       "      <th>product_name</th>\n",
       "    </tr>\n",
       "  </thead>\n",
       "  <tbody>\n",
       "    <tr>\n",
       "      <th>0</th>\n",
       "      <td>0</td>\n",
       "      <td>0</td>\n",
       "      <td>0</td>\n",
       "      <td>7737978.0</td>\n",
       "      <td>10683352.0</td>\n",
       "      <td>5.0</td>\n",
       "      <td>THÔNG TIN CHI TIẾT\\nThương hiệu Kingston\\nSKU ...</td>\n",
       "      <td>373000.0</td>\n",
       "      <td>https://salt.tikicdn.com/cache/280x280/ts/prod...</td>\n",
       "      <td>Nguyen Viet Hưng</td>\n",
       "      <td>USB Kingston DT100G3 128GB chính hãng</td>\n",
       "    </tr>\n",
       "    <tr>\n",
       "      <th>1</th>\n",
       "      <td>1</td>\n",
       "      <td>1</td>\n",
       "      <td>1</td>\n",
       "      <td>7737978.0</td>\n",
       "      <td>10683352.0</td>\n",
       "      <td>5.0</td>\n",
       "      <td>THÔNG TIN CHI TIẾT\\nThương hiệu Kingston\\nSKU ...</td>\n",
       "      <td>373000.0</td>\n",
       "      <td>https://salt.tikicdn.com/cache/280x280/ts/prod...</td>\n",
       "      <td>Vu Thu Huyen</td>\n",
       "      <td>USB Kingston DT100G3 128GB chính hãng</td>\n",
       "    </tr>\n",
       "    <tr>\n",
       "      <th>2</th>\n",
       "      <td>2</td>\n",
       "      <td>2</td>\n",
       "      <td>2</td>\n",
       "      <td>7737978.0</td>\n",
       "      <td>10683352.0</td>\n",
       "      <td>5.0</td>\n",
       "      <td>THÔNG TIN CHI TIẾT\\nThương hiệu Kingston\\nSKU ...</td>\n",
       "      <td>373000.0</td>\n",
       "      <td>https://salt.tikicdn.com/cache/280x280/ts/prod...</td>\n",
       "      <td>Phạm Hùng</td>\n",
       "      <td>USB Kingston DT100G3 128GB chính hãng</td>\n",
       "    </tr>\n",
       "    <tr>\n",
       "      <th>3</th>\n",
       "      <td>3</td>\n",
       "      <td>3</td>\n",
       "      <td>3</td>\n",
       "      <td>7737978.0</td>\n",
       "      <td>10683352.0</td>\n",
       "      <td>5.0</td>\n",
       "      <td>THÔNG TIN CHI TIẾT\\nThương hiệu Kingston\\nSKU ...</td>\n",
       "      <td>373000.0</td>\n",
       "      <td>https://salt.tikicdn.com/cache/280x280/ts/prod...</td>\n",
       "      <td>Nguyễn Như Đạo</td>\n",
       "      <td>USB Kingston DT100G3 128GB chính hãng</td>\n",
       "    </tr>\n",
       "    <tr>\n",
       "      <th>4</th>\n",
       "      <td>4</td>\n",
       "      <td>4</td>\n",
       "      <td>4</td>\n",
       "      <td>7737978.0</td>\n",
       "      <td>10683352.0</td>\n",
       "      <td>5.0</td>\n",
       "      <td>THÔNG TIN CHI TIẾT\\nThương hiệu Kingston\\nSKU ...</td>\n",
       "      <td>373000.0</td>\n",
       "      <td>https://salt.tikicdn.com/cache/280x280/ts/prod...</td>\n",
       "      <td>Phạm Xuân Sơn</td>\n",
       "      <td>USB Kingston DT100G3 128GB chính hãng</td>\n",
       "    </tr>\n",
       "  </tbody>\n",
       "</table>\n",
       "</div>"
      ],
      "text/plain": [
       "   Unnamed: 0.2  Unnamed: 0  Unnamed: 0.1  customer_id  product_id  \\\n",
       "0             0           0             0    7737978.0  10683352.0   \n",
       "1             1           1             1    7737978.0  10683352.0   \n",
       "2             2           2             2    7737978.0  10683352.0   \n",
       "3             3           3             3    7737978.0  10683352.0   \n",
       "4             4           4             4    7737978.0  10683352.0   \n",
       "\n",
       "   customer_rating                                        description  \\\n",
       "0              5.0  THÔNG TIN CHI TIẾT\\nThương hiệu Kingston\\nSKU ...   \n",
       "1              5.0  THÔNG TIN CHI TIẾT\\nThương hiệu Kingston\\nSKU ...   \n",
       "2              5.0  THÔNG TIN CHI TIẾT\\nThương hiệu Kingston\\nSKU ...   \n",
       "3              5.0  THÔNG TIN CHI TIẾT\\nThương hiệu Kingston\\nSKU ...   \n",
       "4              5.0  THÔNG TIN CHI TIẾT\\nThương hiệu Kingston\\nSKU ...   \n",
       "\n",
       "      price                                              image  \\\n",
       "0  373000.0  https://salt.tikicdn.com/cache/280x280/ts/prod...   \n",
       "1  373000.0  https://salt.tikicdn.com/cache/280x280/ts/prod...   \n",
       "2  373000.0  https://salt.tikicdn.com/cache/280x280/ts/prod...   \n",
       "3  373000.0  https://salt.tikicdn.com/cache/280x280/ts/prod...   \n",
       "4  373000.0  https://salt.tikicdn.com/cache/280x280/ts/prod...   \n",
       "\n",
       "      customer_name                           product_name  \n",
       "0  Nguyen Viet Hưng  USB Kingston DT100G3 128GB chính hãng  \n",
       "1      Vu Thu Huyen  USB Kingston DT100G3 128GB chính hãng  \n",
       "2         Phạm Hùng  USB Kingston DT100G3 128GB chính hãng  \n",
       "3    Nguyễn Như Đạo  USB Kingston DT100G3 128GB chính hãng  \n",
       "4     Phạm Xuân Sơn  USB Kingston DT100G3 128GB chính hãng  "
      ]
     },
     "execution_count": 21,
     "metadata": {},
     "output_type": "execute_result"
    }
   ],
   "source": [
    "df_50.head()"
   ]
  },
  {
   "cell_type": "code",
   "execution_count": 22,
   "id": "f89aa66c",
   "metadata": {},
   "outputs": [
    {
     "data": {
      "text/plain": [
       "(500000, 11)"
      ]
     },
     "execution_count": 22,
     "metadata": {},
     "output_type": "execute_result"
    }
   ],
   "source": [
    "df_50.shape"
   ]
  },
  {
   "cell_type": "code",
   "execution_count": 31,
   "id": "9452d4dd",
   "metadata": {},
   "outputs": [],
   "source": [
    "df_review = pd.read_csv(\"ReviewRaw.csv\")"
   ]
  },
  {
   "cell_type": "code",
   "execution_count": 34,
   "id": "c3980816",
   "metadata": {},
   "outputs": [],
   "source": [
    "df_product = pd.read_csv(\"ProductRaw.csv\")"
   ]
  },
  {
   "cell_type": "code",
   "execution_count": 35,
   "id": "ed2e89b6",
   "metadata": {
    "scrolled": false
   },
   "outputs": [
    {
     "data": {
      "text/html": [
       "<div>\n",
       "<style scoped>\n",
       "    .dataframe tbody tr th:only-of-type {\n",
       "        vertical-align: middle;\n",
       "    }\n",
       "\n",
       "    .dataframe tbody tr th {\n",
       "        vertical-align: top;\n",
       "    }\n",
       "\n",
       "    .dataframe thead th {\n",
       "        text-align: right;\n",
       "    }\n",
       "</style>\n",
       "<table border=\"1\" class=\"dataframe\">\n",
       "  <thead>\n",
       "    <tr style=\"text-align: right;\">\n",
       "      <th></th>\n",
       "      <th>customer_id</th>\n",
       "      <th>product_id</th>\n",
       "      <th>name</th>\n",
       "      <th>full_name</th>\n",
       "      <th>created_time</th>\n",
       "      <th>rating</th>\n",
       "      <th>title</th>\n",
       "      <th>content</th>\n",
       "    </tr>\n",
       "  </thead>\n",
       "  <tbody>\n",
       "    <tr>\n",
       "      <th>0</th>\n",
       "      <td>709310</td>\n",
       "      <td>10001012</td>\n",
       "      <td>Lân Nguyễn Hoàng</td>\n",
       "      <td>Lân Nguyễn Hoàng</td>\n",
       "      <td>NaN</td>\n",
       "      <td>3</td>\n",
       "      <td>Ko dùng đc thẻ nhớ</td>\n",
       "      <td>Lúcđầu quên thông tin nên dùng 512gb thì ko đc...</td>\n",
       "    </tr>\n",
       "    <tr>\n",
       "      <th>1</th>\n",
       "      <td>10701688</td>\n",
       "      <td>10001012</td>\n",
       "      <td>Nguyễn Khánh Hòa</td>\n",
       "      <td>Nguyễn Khánh Hòa</td>\n",
       "      <td>NaN</td>\n",
       "      <td>5</td>\n",
       "      <td>Cực kì hài lòng</td>\n",
       "      <td>Tiki giao hàng nhanh. Sản phẩm đúng như mô tả,...</td>\n",
       "    </tr>\n",
       "    <tr>\n",
       "      <th>2</th>\n",
       "      <td>11763074</td>\n",
       "      <td>10001012</td>\n",
       "      <td>Toàn Phạm Khánh</td>\n",
       "      <td>Toàn Phạm Khánh</td>\n",
       "      <td>2019-04-17 15:42:45</td>\n",
       "      <td>5</td>\n",
       "      <td>Cực kì hài lòng</td>\n",
       "      <td>chất lượng camera rõ nét, chống mưa nắng tuyệt...</td>\n",
       "    </tr>\n",
       "    <tr>\n",
       "      <th>3</th>\n",
       "      <td>9909549</td>\n",
       "      <td>10001012</td>\n",
       "      <td>Nguyen Quang Minh</td>\n",
       "      <td>NaN</td>\n",
       "      <td>NaN</td>\n",
       "      <td>5</td>\n",
       "      <td>Rất hài lòng</td>\n",
       "      <td>Hàng được đóng gói cẩn thận, giao hàng nhanh ,...</td>\n",
       "    </tr>\n",
       "    <tr>\n",
       "      <th>4</th>\n",
       "      <td>1827148</td>\n",
       "      <td>10001012</td>\n",
       "      <td>Phạm Bá Đức</td>\n",
       "      <td>Phạm Bá Đức</td>\n",
       "      <td>NaN</td>\n",
       "      <td>5</td>\n",
       "      <td>Cực kì hài lòng</td>\n",
       "      <td>dễ cài đặt, chất lượng tốt, chế độ xem hồng ng...</td>\n",
       "    </tr>\n",
       "  </tbody>\n",
       "</table>\n",
       "</div>"
      ],
      "text/plain": [
       "   customer_id  product_id               name         full_name  \\\n",
       "0       709310    10001012   Lân Nguyễn Hoàng  Lân Nguyễn Hoàng   \n",
       "1     10701688    10001012   Nguyễn Khánh Hòa  Nguyễn Khánh Hòa   \n",
       "2     11763074    10001012    Toàn Phạm Khánh   Toàn Phạm Khánh   \n",
       "3      9909549    10001012  Nguyen Quang Minh               NaN   \n",
       "4      1827148    10001012        Phạm Bá Đức       Phạm Bá Đức   \n",
       "\n",
       "          created_time  rating               title  \\\n",
       "0                  NaN       3  Ko dùng đc thẻ nhớ   \n",
       "1                  NaN       5     Cực kì hài lòng   \n",
       "2  2019-04-17 15:42:45       5     Cực kì hài lòng   \n",
       "3                  NaN       5        Rất hài lòng   \n",
       "4                  NaN       5     Cực kì hài lòng   \n",
       "\n",
       "                                             content  \n",
       "0  Lúcđầu quên thông tin nên dùng 512gb thì ko đc...  \n",
       "1  Tiki giao hàng nhanh. Sản phẩm đúng như mô tả,...  \n",
       "2  chất lượng camera rõ nét, chống mưa nắng tuyệt...  \n",
       "3  Hàng được đóng gói cẩn thận, giao hàng nhanh ,...  \n",
       "4  dễ cài đặt, chất lượng tốt, chế độ xem hồng ng...  "
      ]
     },
     "execution_count": 35,
     "metadata": {},
     "output_type": "execute_result"
    }
   ],
   "source": [
    "df_review.head()"
   ]
  },
  {
   "cell_type": "code",
   "execution_count": 41,
   "id": "80b353e7",
   "metadata": {},
   "outputs": [
    {
     "data": {
      "text/plain": [
       "customer_id          0\n",
       "product_id           0\n",
       "name               430\n",
       "full_name        34628\n",
       "created_time    246759\n",
       "rating               0\n",
       "title               29\n",
       "content         198305\n",
       "dtype: int64"
      ]
     },
     "execution_count": 41,
     "metadata": {},
     "output_type": "execute_result"
    }
   ],
   "source": [
    "df_review.isnull().sum()"
   ]
  },
  {
   "cell_type": "code",
   "execution_count": 36,
   "id": "d433cea2",
   "metadata": {
    "scrolled": true
   },
   "outputs": [
    {
     "data": {
      "text/html": [
       "<div>\n",
       "<style scoped>\n",
       "    .dataframe tbody tr th:only-of-type {\n",
       "        vertical-align: middle;\n",
       "    }\n",
       "\n",
       "    .dataframe tbody tr th {\n",
       "        vertical-align: top;\n",
       "    }\n",
       "\n",
       "    .dataframe thead th {\n",
       "        text-align: right;\n",
       "    }\n",
       "</style>\n",
       "<table border=\"1\" class=\"dataframe\">\n",
       "  <thead>\n",
       "    <tr style=\"text-align: right;\">\n",
       "      <th></th>\n",
       "      <th>item_id</th>\n",
       "      <th>name</th>\n",
       "      <th>description</th>\n",
       "      <th>rating</th>\n",
       "      <th>price</th>\n",
       "      <th>list_price</th>\n",
       "      <th>brand</th>\n",
       "      <th>group</th>\n",
       "      <th>url</th>\n",
       "      <th>image</th>\n",
       "    </tr>\n",
       "  </thead>\n",
       "  <tbody>\n",
       "    <tr>\n",
       "      <th>0</th>\n",
       "      <td>48102821</td>\n",
       "      <td>Tai nghe Bluetooth Inpods 12 - Cảm biến vân ta...</td>\n",
       "      <td>THÔNG TIN CHI TIẾT\\nDung lượng pin 300\\nThời g...</td>\n",
       "      <td>4.0</td>\n",
       "      <td>77000</td>\n",
       "      <td>300000</td>\n",
       "      <td>OEM</td>\n",
       "      <td>Thiết Bị Số - Phụ Kiện Số/Thiết Bị Âm Thanh và...</td>\n",
       "      <td>https://tai-nghe-bluetooth-inpods-12-cam-bien-...</td>\n",
       "      <td>https://salt.tikicdn.com/cache/280x280/ts/prod...</td>\n",
       "    </tr>\n",
       "    <tr>\n",
       "      <th>1</th>\n",
       "      <td>52333193</td>\n",
       "      <td>Tai nghe bluetooth không dây F9 True wireless ...</td>\n",
       "      <td>THÔNG TIN CHI TIẾT\\nDung lượng pin 2000mah\\nTh...</td>\n",
       "      <td>4.5</td>\n",
       "      <td>132000</td>\n",
       "      <td>750000</td>\n",
       "      <td>OEM</td>\n",
       "      <td>Thiết Bị Số - Phụ Kiện Số/Thiết Bị Âm Thanh và...</td>\n",
       "      <td>https://tai-nghe-bluetooth-khong-day-f9-true-w...</td>\n",
       "      <td>https://salt.tikicdn.com/cache/280x280/ts/prod...</td>\n",
       "    </tr>\n",
       "    <tr>\n",
       "      <th>2</th>\n",
       "      <td>299461</td>\n",
       "      <td>Chuột Không Dây Logitech M331 Silent - Hàng Ch...</td>\n",
       "      <td>THÔNG TIN CHI TIẾT\\nThương hiệu Logitech\\nĐộ p...</td>\n",
       "      <td>4.8</td>\n",
       "      <td>299000</td>\n",
       "      <td>399000</td>\n",
       "      <td>Logitech</td>\n",
       "      <td>Thiết Bị Số - Phụ Kiện Số/Phụ kiện máy tính và...</td>\n",
       "      <td>https://chuot-khong-day-logitech-m331-silent-p...</td>\n",
       "      <td>https://salt.tikicdn.com/cache/280x280/media/c...</td>\n",
       "    </tr>\n",
       "    <tr>\n",
       "      <th>3</th>\n",
       "      <td>57440329</td>\n",
       "      <td>Loa Bluetooth 5.0 Kiêm Đồng Hồ Báo Thức - [[ 2...</td>\n",
       "      <td>THÔNG TIN CHI TIẾT\\nThương hiệu Acome\\nXuất xứ...</td>\n",
       "      <td>4.7</td>\n",
       "      <td>149000</td>\n",
       "      <td>350000</td>\n",
       "      <td>Acome</td>\n",
       "      <td>Thiết Bị Số - Phụ Kiện Số/Thiết Bị Âm Thanh và...</td>\n",
       "      <td>https://loa-bluetooth-5-0-kiem-dong-ho-bao-thu...</td>\n",
       "      <td>https://salt.tikicdn.com/cache/280x280/ts/prod...</td>\n",
       "    </tr>\n",
       "    <tr>\n",
       "      <th>4</th>\n",
       "      <td>38458616</td>\n",
       "      <td>Tai Nghe Bluetooth Apple AirPods Pro True Wire...</td>\n",
       "      <td>THÔNG TIN CHI TIẾT\\nThương hiệu Apple\\nXuất xứ...</td>\n",
       "      <td>4.8</td>\n",
       "      <td>5090000</td>\n",
       "      <td>8500000</td>\n",
       "      <td>Apple</td>\n",
       "      <td>Thiết Bị Số - Phụ Kiện Số/Thiết Bị Âm Thanh và...</td>\n",
       "      <td>https://tai-nghe-bluetooth-apple-airpods-pro-t...</td>\n",
       "      <td>https://salt.tikicdn.com/cache/280x280/ts/prod...</td>\n",
       "    </tr>\n",
       "  </tbody>\n",
       "</table>\n",
       "</div>"
      ],
      "text/plain": [
       "    item_id                                               name  \\\n",
       "0  48102821  Tai nghe Bluetooth Inpods 12 - Cảm biến vân ta...   \n",
       "1  52333193  Tai nghe bluetooth không dây F9 True wireless ...   \n",
       "2    299461  Chuột Không Dây Logitech M331 Silent - Hàng Ch...   \n",
       "3  57440329  Loa Bluetooth 5.0 Kiêm Đồng Hồ Báo Thức - [[ 2...   \n",
       "4  38458616  Tai Nghe Bluetooth Apple AirPods Pro True Wire...   \n",
       "\n",
       "                                         description  rating    price  \\\n",
       "0  THÔNG TIN CHI TIẾT\\nDung lượng pin 300\\nThời g...     4.0    77000   \n",
       "1  THÔNG TIN CHI TIẾT\\nDung lượng pin 2000mah\\nTh...     4.5   132000   \n",
       "2  THÔNG TIN CHI TIẾT\\nThương hiệu Logitech\\nĐộ p...     4.8   299000   \n",
       "3  THÔNG TIN CHI TIẾT\\nThương hiệu Acome\\nXuất xứ...     4.7   149000   \n",
       "4  THÔNG TIN CHI TIẾT\\nThương hiệu Apple\\nXuất xứ...     4.8  5090000   \n",
       "\n",
       "   list_price     brand                                              group  \\\n",
       "0      300000       OEM  Thiết Bị Số - Phụ Kiện Số/Thiết Bị Âm Thanh và...   \n",
       "1      750000       OEM  Thiết Bị Số - Phụ Kiện Số/Thiết Bị Âm Thanh và...   \n",
       "2      399000  Logitech  Thiết Bị Số - Phụ Kiện Số/Phụ kiện máy tính và...   \n",
       "3      350000     Acome  Thiết Bị Số - Phụ Kiện Số/Thiết Bị Âm Thanh và...   \n",
       "4     8500000     Apple  Thiết Bị Số - Phụ Kiện Số/Thiết Bị Âm Thanh và...   \n",
       "\n",
       "                                                 url  \\\n",
       "0  https://tai-nghe-bluetooth-inpods-12-cam-bien-...   \n",
       "1  https://tai-nghe-bluetooth-khong-day-f9-true-w...   \n",
       "2  https://chuot-khong-day-logitech-m331-silent-p...   \n",
       "3  https://loa-bluetooth-5-0-kiem-dong-ho-bao-thu...   \n",
       "4  https://tai-nghe-bluetooth-apple-airpods-pro-t...   \n",
       "\n",
       "                                               image  \n",
       "0  https://salt.tikicdn.com/cache/280x280/ts/prod...  \n",
       "1  https://salt.tikicdn.com/cache/280x280/ts/prod...  \n",
       "2  https://salt.tikicdn.com/cache/280x280/media/c...  \n",
       "3  https://salt.tikicdn.com/cache/280x280/ts/prod...  \n",
       "4  https://salt.tikicdn.com/cache/280x280/ts/prod...  "
      ]
     },
     "execution_count": 36,
     "metadata": {},
     "output_type": "execute_result"
    }
   ],
   "source": [
    "df_product.head()"
   ]
  },
  {
   "cell_type": "code",
   "execution_count": 47,
   "id": "b3cb59d0",
   "metadata": {},
   "outputs": [],
   "source": [
    "df_product.rename(columns={'item_id': 'product_id'}, inplace=True)"
   ]
  },
  {
   "cell_type": "code",
   "execution_count": 48,
   "id": "035153d3",
   "metadata": {},
   "outputs": [
    {
     "data": {
      "text/html": [
       "<div>\n",
       "<style scoped>\n",
       "    .dataframe tbody tr th:only-of-type {\n",
       "        vertical-align: middle;\n",
       "    }\n",
       "\n",
       "    .dataframe tbody tr th {\n",
       "        vertical-align: top;\n",
       "    }\n",
       "\n",
       "    .dataframe thead th {\n",
       "        text-align: right;\n",
       "    }\n",
       "</style>\n",
       "<table border=\"1\" class=\"dataframe\">\n",
       "  <thead>\n",
       "    <tr style=\"text-align: right;\">\n",
       "      <th></th>\n",
       "      <th>product_id</th>\n",
       "      <th>name</th>\n",
       "      <th>description</th>\n",
       "      <th>rating</th>\n",
       "      <th>price</th>\n",
       "      <th>list_price</th>\n",
       "      <th>brand</th>\n",
       "      <th>group</th>\n",
       "      <th>url</th>\n",
       "      <th>image</th>\n",
       "    </tr>\n",
       "  </thead>\n",
       "  <tbody>\n",
       "    <tr>\n",
       "      <th>0</th>\n",
       "      <td>48102821</td>\n",
       "      <td>Tai nghe Bluetooth Inpods 12 - Cảm biến vân ta...</td>\n",
       "      <td>THÔNG TIN CHI TIẾT\\nDung lượng pin 300\\nThời g...</td>\n",
       "      <td>4.0</td>\n",
       "      <td>77000</td>\n",
       "      <td>300000</td>\n",
       "      <td>OEM</td>\n",
       "      <td>Thiết Bị Số - Phụ Kiện Số/Thiết Bị Âm Thanh và...</td>\n",
       "      <td>https://tai-nghe-bluetooth-inpods-12-cam-bien-...</td>\n",
       "      <td>https://salt.tikicdn.com/cache/280x280/ts/prod...</td>\n",
       "    </tr>\n",
       "    <tr>\n",
       "      <th>1</th>\n",
       "      <td>52333193</td>\n",
       "      <td>Tai nghe bluetooth không dây F9 True wireless ...</td>\n",
       "      <td>THÔNG TIN CHI TIẾT\\nDung lượng pin 2000mah\\nTh...</td>\n",
       "      <td>4.5</td>\n",
       "      <td>132000</td>\n",
       "      <td>750000</td>\n",
       "      <td>OEM</td>\n",
       "      <td>Thiết Bị Số - Phụ Kiện Số/Thiết Bị Âm Thanh và...</td>\n",
       "      <td>https://tai-nghe-bluetooth-khong-day-f9-true-w...</td>\n",
       "      <td>https://salt.tikicdn.com/cache/280x280/ts/prod...</td>\n",
       "    </tr>\n",
       "    <tr>\n",
       "      <th>2</th>\n",
       "      <td>299461</td>\n",
       "      <td>Chuột Không Dây Logitech M331 Silent - Hàng Ch...</td>\n",
       "      <td>THÔNG TIN CHI TIẾT\\nThương hiệu Logitech\\nĐộ p...</td>\n",
       "      <td>4.8</td>\n",
       "      <td>299000</td>\n",
       "      <td>399000</td>\n",
       "      <td>Logitech</td>\n",
       "      <td>Thiết Bị Số - Phụ Kiện Số/Phụ kiện máy tính và...</td>\n",
       "      <td>https://chuot-khong-day-logitech-m331-silent-p...</td>\n",
       "      <td>https://salt.tikicdn.com/cache/280x280/media/c...</td>\n",
       "    </tr>\n",
       "    <tr>\n",
       "      <th>3</th>\n",
       "      <td>57440329</td>\n",
       "      <td>Loa Bluetooth 5.0 Kiêm Đồng Hồ Báo Thức - [[ 2...</td>\n",
       "      <td>THÔNG TIN CHI TIẾT\\nThương hiệu Acome\\nXuất xứ...</td>\n",
       "      <td>4.7</td>\n",
       "      <td>149000</td>\n",
       "      <td>350000</td>\n",
       "      <td>Acome</td>\n",
       "      <td>Thiết Bị Số - Phụ Kiện Số/Thiết Bị Âm Thanh và...</td>\n",
       "      <td>https://loa-bluetooth-5-0-kiem-dong-ho-bao-thu...</td>\n",
       "      <td>https://salt.tikicdn.com/cache/280x280/ts/prod...</td>\n",
       "    </tr>\n",
       "    <tr>\n",
       "      <th>4</th>\n",
       "      <td>38458616</td>\n",
       "      <td>Tai Nghe Bluetooth Apple AirPods Pro True Wire...</td>\n",
       "      <td>THÔNG TIN CHI TIẾT\\nThương hiệu Apple\\nXuất xứ...</td>\n",
       "      <td>4.8</td>\n",
       "      <td>5090000</td>\n",
       "      <td>8500000</td>\n",
       "      <td>Apple</td>\n",
       "      <td>Thiết Bị Số - Phụ Kiện Số/Thiết Bị Âm Thanh và...</td>\n",
       "      <td>https://tai-nghe-bluetooth-apple-airpods-pro-t...</td>\n",
       "      <td>https://salt.tikicdn.com/cache/280x280/ts/prod...</td>\n",
       "    </tr>\n",
       "  </tbody>\n",
       "</table>\n",
       "</div>"
      ],
      "text/plain": [
       "   product_id                                               name  \\\n",
       "0    48102821  Tai nghe Bluetooth Inpods 12 - Cảm biến vân ta...   \n",
       "1    52333193  Tai nghe bluetooth không dây F9 True wireless ...   \n",
       "2      299461  Chuột Không Dây Logitech M331 Silent - Hàng Ch...   \n",
       "3    57440329  Loa Bluetooth 5.0 Kiêm Đồng Hồ Báo Thức - [[ 2...   \n",
       "4    38458616  Tai Nghe Bluetooth Apple AirPods Pro True Wire...   \n",
       "\n",
       "                                         description  rating    price  \\\n",
       "0  THÔNG TIN CHI TIẾT\\nDung lượng pin 300\\nThời g...     4.0    77000   \n",
       "1  THÔNG TIN CHI TIẾT\\nDung lượng pin 2000mah\\nTh...     4.5   132000   \n",
       "2  THÔNG TIN CHI TIẾT\\nThương hiệu Logitech\\nĐộ p...     4.8   299000   \n",
       "3  THÔNG TIN CHI TIẾT\\nThương hiệu Acome\\nXuất xứ...     4.7   149000   \n",
       "4  THÔNG TIN CHI TIẾT\\nThương hiệu Apple\\nXuất xứ...     4.8  5090000   \n",
       "\n",
       "   list_price     brand                                              group  \\\n",
       "0      300000       OEM  Thiết Bị Số - Phụ Kiện Số/Thiết Bị Âm Thanh và...   \n",
       "1      750000       OEM  Thiết Bị Số - Phụ Kiện Số/Thiết Bị Âm Thanh và...   \n",
       "2      399000  Logitech  Thiết Bị Số - Phụ Kiện Số/Phụ kiện máy tính và...   \n",
       "3      350000     Acome  Thiết Bị Số - Phụ Kiện Số/Thiết Bị Âm Thanh và...   \n",
       "4     8500000     Apple  Thiết Bị Số - Phụ Kiện Số/Thiết Bị Âm Thanh và...   \n",
       "\n",
       "                                                 url  \\\n",
       "0  https://tai-nghe-bluetooth-inpods-12-cam-bien-...   \n",
       "1  https://tai-nghe-bluetooth-khong-day-f9-true-w...   \n",
       "2  https://chuot-khong-day-logitech-m331-silent-p...   \n",
       "3  https://loa-bluetooth-5-0-kiem-dong-ho-bao-thu...   \n",
       "4  https://tai-nghe-bluetooth-apple-airpods-pro-t...   \n",
       "\n",
       "                                               image  \n",
       "0  https://salt.tikicdn.com/cache/280x280/ts/prod...  \n",
       "1  https://salt.tikicdn.com/cache/280x280/ts/prod...  \n",
       "2  https://salt.tikicdn.com/cache/280x280/media/c...  \n",
       "3  https://salt.tikicdn.com/cache/280x280/ts/prod...  \n",
       "4  https://salt.tikicdn.com/cache/280x280/ts/prod...  "
      ]
     },
     "execution_count": 48,
     "metadata": {},
     "output_type": "execute_result"
    }
   ],
   "source": [
    "df_product.head()"
   ]
  },
  {
   "cell_type": "code",
   "execution_count": 42,
   "id": "e644c0ad",
   "metadata": {},
   "outputs": [],
   "source": [
    "df_merged2 = pd.merge(df_p, df_review[['name','customer_id']], on='customer_id', how='left')"
   ]
  },
  {
   "cell_type": "code",
   "execution_count": 43,
   "id": "cfcea1e3",
   "metadata": {},
   "outputs": [
    {
     "data": {
      "text/html": [
       "<div>\n",
       "<style scoped>\n",
       "    .dataframe tbody tr th:only-of-type {\n",
       "        vertical-align: middle;\n",
       "    }\n",
       "\n",
       "    .dataframe tbody tr th {\n",
       "        vertical-align: top;\n",
       "    }\n",
       "\n",
       "    .dataframe thead th {\n",
       "        text-align: right;\n",
       "    }\n",
       "</style>\n",
       "<table border=\"1\" class=\"dataframe\">\n",
       "  <thead>\n",
       "    <tr style=\"text-align: right;\">\n",
       "      <th></th>\n",
       "      <th>brand</th>\n",
       "      <th>customer_id</th>\n",
       "      <th>customer_rating</th>\n",
       "      <th>image</th>\n",
       "      <th>price</th>\n",
       "      <th>product_id</th>\n",
       "      <th>product_name</th>\n",
       "      <th>name</th>\n",
       "    </tr>\n",
       "  </thead>\n",
       "  <tbody>\n",
       "    <tr>\n",
       "      <th>0</th>\n",
       "      <td>Fujifilm</td>\n",
       "      <td>10</td>\n",
       "      <td>4.892902</td>\n",
       "      <td>https://salt.tikicdn.com/cache/280x280/ts/prod...</td>\n",
       "      <td>12790000</td>\n",
       "      <td>15287960</td>\n",
       "      <td>Ống Kính Fujifilm Fujinon 35mm F/1.4 R - Hàng ...</td>\n",
       "      <td>Lieu Van Duc</td>\n",
       "    </tr>\n",
       "    <tr>\n",
       "      <th>1</th>\n",
       "      <td>Fujifilm</td>\n",
       "      <td>10</td>\n",
       "      <td>4.892902</td>\n",
       "      <td>https://salt.tikicdn.com/cache/280x280/ts/prod...</td>\n",
       "      <td>12790000</td>\n",
       "      <td>15287960</td>\n",
       "      <td>Ống Kính Fujifilm Fujinon 35mm F/1.4 R - Hàng ...</td>\n",
       "      <td>Lieu Van Duc</td>\n",
       "    </tr>\n",
       "    <tr>\n",
       "      <th>2</th>\n",
       "      <td>Việt Star Quốc Tế</td>\n",
       "      <td>10</td>\n",
       "      <td>4.885509</td>\n",
       "      <td>https://salt.tikicdn.com/cache/280x280/ts/prod...</td>\n",
       "      <td>354000</td>\n",
       "      <td>67985251</td>\n",
       "      <td>Camera Ip Giám Sát An Ninh Trong Nhà CC2020, 2...</td>\n",
       "      <td>Lieu Van Duc</td>\n",
       "    </tr>\n",
       "    <tr>\n",
       "      <th>3</th>\n",
       "      <td>Việt Star Quốc Tế</td>\n",
       "      <td>10</td>\n",
       "      <td>4.885509</td>\n",
       "      <td>https://salt.tikicdn.com/cache/280x280/ts/prod...</td>\n",
       "      <td>354000</td>\n",
       "      <td>67985251</td>\n",
       "      <td>Camera Ip Giám Sát An Ninh Trong Nhà CC2020, 2...</td>\n",
       "      <td>Lieu Van Duc</td>\n",
       "    </tr>\n",
       "    <tr>\n",
       "      <th>4</th>\n",
       "      <td>Nexus</td>\n",
       "      <td>10</td>\n",
       "      <td>4.831678</td>\n",
       "      <td>https://salt.tikicdn.com/cache/280x280/ts/prod...</td>\n",
       "      <td>590000</td>\n",
       "      <td>73844240</td>\n",
       "      <td>Case máy tính MIK Nexus M - Hàng Chính Hãng</td>\n",
       "      <td>Lieu Van Duc</td>\n",
       "    </tr>\n",
       "  </tbody>\n",
       "</table>\n",
       "</div>"
      ],
      "text/plain": [
       "               brand  customer_id  customer_rating  \\\n",
       "0           Fujifilm           10         4.892902   \n",
       "1           Fujifilm           10         4.892902   \n",
       "2  Việt Star Quốc Tế           10         4.885509   \n",
       "3  Việt Star Quốc Tế           10         4.885509   \n",
       "4              Nexus           10         4.831678   \n",
       "\n",
       "                                               image     price  product_id  \\\n",
       "0  https://salt.tikicdn.com/cache/280x280/ts/prod...  12790000    15287960   \n",
       "1  https://salt.tikicdn.com/cache/280x280/ts/prod...  12790000    15287960   \n",
       "2  https://salt.tikicdn.com/cache/280x280/ts/prod...    354000    67985251   \n",
       "3  https://salt.tikicdn.com/cache/280x280/ts/prod...    354000    67985251   \n",
       "4  https://salt.tikicdn.com/cache/280x280/ts/prod...    590000    73844240   \n",
       "\n",
       "                                        product_name          name  \n",
       "0  Ống Kính Fujifilm Fujinon 35mm F/1.4 R - Hàng ...  Lieu Van Duc  \n",
       "1  Ống Kính Fujifilm Fujinon 35mm F/1.4 R - Hàng ...  Lieu Van Duc  \n",
       "2  Camera Ip Giám Sát An Ninh Trong Nhà CC2020, 2...  Lieu Van Duc  \n",
       "3  Camera Ip Giám Sát An Ninh Trong Nhà CC2020, 2...  Lieu Van Duc  \n",
       "4        Case máy tính MIK Nexus M - Hàng Chính Hãng  Lieu Van Duc  "
      ]
     },
     "execution_count": 43,
     "metadata": {},
     "output_type": "execute_result"
    }
   ],
   "source": [
    "df_merged2.head()"
   ]
  },
  {
   "cell_type": "code",
   "execution_count": 44,
   "id": "ef035ea4",
   "metadata": {},
   "outputs": [
    {
     "data": {
      "text/plain": [
       "brand                 0\n",
       "customer_id           0\n",
       "customer_rating       0\n",
       "image                 0\n",
       "price                 0\n",
       "product_id            0\n",
       "product_name          0\n",
       "name               3733\n",
       "dtype: int64"
      ]
     },
     "execution_count": 44,
     "metadata": {},
     "output_type": "execute_result"
    }
   ],
   "source": [
    "df_merged2.isnull().sum()"
   ]
  },
  {
   "cell_type": "code",
   "execution_count": 50,
   "id": "cdea0d33",
   "metadata": {},
   "outputs": [],
   "source": [
    "df_merged23 = pd.merge(df_merged2, df_product[['description','product_id']], on='product_id', how='left')"
   ]
  },
  {
   "cell_type": "code",
   "execution_count": 51,
   "id": "b44ee023",
   "metadata": {},
   "outputs": [
    {
     "data": {
      "text/html": [
       "<div>\n",
       "<style scoped>\n",
       "    .dataframe tbody tr th:only-of-type {\n",
       "        vertical-align: middle;\n",
       "    }\n",
       "\n",
       "    .dataframe tbody tr th {\n",
       "        vertical-align: top;\n",
       "    }\n",
       "\n",
       "    .dataframe thead th {\n",
       "        text-align: right;\n",
       "    }\n",
       "</style>\n",
       "<table border=\"1\" class=\"dataframe\">\n",
       "  <thead>\n",
       "    <tr style=\"text-align: right;\">\n",
       "      <th></th>\n",
       "      <th>brand</th>\n",
       "      <th>customer_id</th>\n",
       "      <th>customer_rating</th>\n",
       "      <th>image</th>\n",
       "      <th>price</th>\n",
       "      <th>product_id</th>\n",
       "      <th>product_name</th>\n",
       "      <th>name</th>\n",
       "      <th>description</th>\n",
       "    </tr>\n",
       "  </thead>\n",
       "  <tbody>\n",
       "    <tr>\n",
       "      <th>0</th>\n",
       "      <td>Fujifilm</td>\n",
       "      <td>10</td>\n",
       "      <td>4.892902</td>\n",
       "      <td>https://salt.tikicdn.com/cache/280x280/ts/prod...</td>\n",
       "      <td>12790000</td>\n",
       "      <td>15287960</td>\n",
       "      <td>Ống Kính Fujifilm Fujinon 35mm F/1.4 R - Hàng ...</td>\n",
       "      <td>Lieu Van Duc</td>\n",
       "      <td>THÔNG TIN CHI TIẾT\\nThương hiệu Fujifilm\\nSKU ...</td>\n",
       "    </tr>\n",
       "    <tr>\n",
       "      <th>1</th>\n",
       "      <td>Fujifilm</td>\n",
       "      <td>10</td>\n",
       "      <td>4.892902</td>\n",
       "      <td>https://salt.tikicdn.com/cache/280x280/ts/prod...</td>\n",
       "      <td>12790000</td>\n",
       "      <td>15287960</td>\n",
       "      <td>Ống Kính Fujifilm Fujinon 35mm F/1.4 R - Hàng ...</td>\n",
       "      <td>Lieu Van Duc</td>\n",
       "      <td>THÔNG TIN CHI TIẾT\\nThương hiệu Fujifilm\\nSKU ...</td>\n",
       "    </tr>\n",
       "    <tr>\n",
       "      <th>2</th>\n",
       "      <td>Việt Star Quốc Tế</td>\n",
       "      <td>10</td>\n",
       "      <td>4.885509</td>\n",
       "      <td>https://salt.tikicdn.com/cache/280x280/ts/prod...</td>\n",
       "      <td>354000</td>\n",
       "      <td>67985251</td>\n",
       "      <td>Camera Ip Giám Sát An Ninh Trong Nhà CC2020, 2...</td>\n",
       "      <td>Lieu Van Duc</td>\n",
       "      <td>THÔNG TIN CHI TIẾT\\nThương hiệu Việt Star Quốc...</td>\n",
       "    </tr>\n",
       "    <tr>\n",
       "      <th>3</th>\n",
       "      <td>Việt Star Quốc Tế</td>\n",
       "      <td>10</td>\n",
       "      <td>4.885509</td>\n",
       "      <td>https://salt.tikicdn.com/cache/280x280/ts/prod...</td>\n",
       "      <td>354000</td>\n",
       "      <td>67985251</td>\n",
       "      <td>Camera Ip Giám Sát An Ninh Trong Nhà CC2020, 2...</td>\n",
       "      <td>Lieu Van Duc</td>\n",
       "      <td>THÔNG TIN CHI TIẾT\\nThương hiệu Việt Star Quốc...</td>\n",
       "    </tr>\n",
       "    <tr>\n",
       "      <th>4</th>\n",
       "      <td>Nexus</td>\n",
       "      <td>10</td>\n",
       "      <td>4.831678</td>\n",
       "      <td>https://salt.tikicdn.com/cache/280x280/ts/prod...</td>\n",
       "      <td>590000</td>\n",
       "      <td>73844240</td>\n",
       "      <td>Case máy tính MIK Nexus M - Hàng Chính Hãng</td>\n",
       "      <td>Lieu Van Duc</td>\n",
       "      <td>THÔNG TIN CHI TIẾT\\nThương hiệu Nexus\\nXuất xứ...</td>\n",
       "    </tr>\n",
       "  </tbody>\n",
       "</table>\n",
       "</div>"
      ],
      "text/plain": [
       "               brand  customer_id  customer_rating  \\\n",
       "0           Fujifilm           10         4.892902   \n",
       "1           Fujifilm           10         4.892902   \n",
       "2  Việt Star Quốc Tế           10         4.885509   \n",
       "3  Việt Star Quốc Tế           10         4.885509   \n",
       "4              Nexus           10         4.831678   \n",
       "\n",
       "                                               image     price  product_id  \\\n",
       "0  https://salt.tikicdn.com/cache/280x280/ts/prod...  12790000    15287960   \n",
       "1  https://salt.tikicdn.com/cache/280x280/ts/prod...  12790000    15287960   \n",
       "2  https://salt.tikicdn.com/cache/280x280/ts/prod...    354000    67985251   \n",
       "3  https://salt.tikicdn.com/cache/280x280/ts/prod...    354000    67985251   \n",
       "4  https://salt.tikicdn.com/cache/280x280/ts/prod...    590000    73844240   \n",
       "\n",
       "                                        product_name          name  \\\n",
       "0  Ống Kính Fujifilm Fujinon 35mm F/1.4 R - Hàng ...  Lieu Van Duc   \n",
       "1  Ống Kính Fujifilm Fujinon 35mm F/1.4 R - Hàng ...  Lieu Van Duc   \n",
       "2  Camera Ip Giám Sát An Ninh Trong Nhà CC2020, 2...  Lieu Van Duc   \n",
       "3  Camera Ip Giám Sát An Ninh Trong Nhà CC2020, 2...  Lieu Van Duc   \n",
       "4        Case máy tính MIK Nexus M - Hàng Chính Hãng  Lieu Van Duc   \n",
       "\n",
       "                                         description  \n",
       "0  THÔNG TIN CHI TIẾT\\nThương hiệu Fujifilm\\nSKU ...  \n",
       "1  THÔNG TIN CHI TIẾT\\nThương hiệu Fujifilm\\nSKU ...  \n",
       "2  THÔNG TIN CHI TIẾT\\nThương hiệu Việt Star Quốc...  \n",
       "3  THÔNG TIN CHI TIẾT\\nThương hiệu Việt Star Quốc...  \n",
       "4  THÔNG TIN CHI TIẾT\\nThương hiệu Nexus\\nXuất xứ...  "
      ]
     },
     "execution_count": 51,
     "metadata": {},
     "output_type": "execute_result"
    }
   ],
   "source": [
    "df_merged23.head()"
   ]
  },
  {
   "cell_type": "code",
   "execution_count": 52,
   "id": "a4957a2e",
   "metadata": {},
   "outputs": [
    {
     "data": {
      "text/plain": [
       "1105443"
      ]
     },
     "execution_count": 52,
     "metadata": {},
     "output_type": "execute_result"
    }
   ],
   "source": [
    "df_merged23.duplicated().sum()"
   ]
  },
  {
   "cell_type": "code",
   "execution_count": 53,
   "id": "f6184bac",
   "metadata": {},
   "outputs": [
    {
     "data": {
      "text/plain": [
       "(3234689, 9)"
      ]
     },
     "execution_count": 53,
     "metadata": {},
     "output_type": "execute_result"
    }
   ],
   "source": [
    "df_merged23.shape"
   ]
  },
  {
   "cell_type": "code",
   "execution_count": 54,
   "id": "9c9b93c5",
   "metadata": {},
   "outputs": [],
   "source": [
    "df_merged23.drop_duplicates(inplace=True)"
   ]
  },
  {
   "cell_type": "code",
   "execution_count": 55,
   "id": "5434c338",
   "metadata": {},
   "outputs": [
    {
     "data": {
      "text/plain": [
       "(2129246, 9)"
      ]
     },
     "execution_count": 55,
     "metadata": {},
     "output_type": "execute_result"
    }
   ],
   "source": [
    "df_merged23.shape"
   ]
  },
  {
   "cell_type": "code",
   "execution_count": 56,
   "id": "f778aaab",
   "metadata": {},
   "outputs": [
    {
     "data": {
      "text/html": [
       "<div>\n",
       "<style scoped>\n",
       "    .dataframe tbody tr th:only-of-type {\n",
       "        vertical-align: middle;\n",
       "    }\n",
       "\n",
       "    .dataframe tbody tr th {\n",
       "        vertical-align: top;\n",
       "    }\n",
       "\n",
       "    .dataframe thead th {\n",
       "        text-align: right;\n",
       "    }\n",
       "</style>\n",
       "<table border=\"1\" class=\"dataframe\">\n",
       "  <thead>\n",
       "    <tr style=\"text-align: right;\">\n",
       "      <th></th>\n",
       "      <th>brand</th>\n",
       "      <th>customer_id</th>\n",
       "      <th>customer_rating</th>\n",
       "      <th>image</th>\n",
       "      <th>price</th>\n",
       "      <th>product_id</th>\n",
       "      <th>product_name</th>\n",
       "      <th>name</th>\n",
       "      <th>description</th>\n",
       "    </tr>\n",
       "  </thead>\n",
       "  <tbody>\n",
       "    <tr>\n",
       "      <th>0</th>\n",
       "      <td>Fujifilm</td>\n",
       "      <td>10</td>\n",
       "      <td>4.892902</td>\n",
       "      <td>https://salt.tikicdn.com/cache/280x280/ts/prod...</td>\n",
       "      <td>12790000</td>\n",
       "      <td>15287960</td>\n",
       "      <td>Ống Kính Fujifilm Fujinon 35mm F/1.4 R - Hàng ...</td>\n",
       "      <td>Lieu Van Duc</td>\n",
       "      <td>THÔNG TIN CHI TIẾT\\nThương hiệu Fujifilm\\nSKU ...</td>\n",
       "    </tr>\n",
       "    <tr>\n",
       "      <th>2</th>\n",
       "      <td>Việt Star Quốc Tế</td>\n",
       "      <td>10</td>\n",
       "      <td>4.885509</td>\n",
       "      <td>https://salt.tikicdn.com/cache/280x280/ts/prod...</td>\n",
       "      <td>354000</td>\n",
       "      <td>67985251</td>\n",
       "      <td>Camera Ip Giám Sát An Ninh Trong Nhà CC2020, 2...</td>\n",
       "      <td>Lieu Van Duc</td>\n",
       "      <td>THÔNG TIN CHI TIẾT\\nThương hiệu Việt Star Quốc...</td>\n",
       "    </tr>\n",
       "    <tr>\n",
       "      <th>4</th>\n",
       "      <td>Nexus</td>\n",
       "      <td>10</td>\n",
       "      <td>4.831678</td>\n",
       "      <td>https://salt.tikicdn.com/cache/280x280/ts/prod...</td>\n",
       "      <td>590000</td>\n",
       "      <td>73844240</td>\n",
       "      <td>Case máy tính MIK Nexus M - Hàng Chính Hãng</td>\n",
       "      <td>Lieu Van Duc</td>\n",
       "      <td>THÔNG TIN CHI TIẾT\\nThương hiệu Nexus\\nXuất xứ...</td>\n",
       "    </tr>\n",
       "    <tr>\n",
       "      <th>6</th>\n",
       "      <td>SanDisk</td>\n",
       "      <td>10</td>\n",
       "      <td>4.799589</td>\n",
       "      <td>https://salt.tikicdn.com/cache/280x280/ts/prod...</td>\n",
       "      <td>450000</td>\n",
       "      <td>8321616</td>\n",
       "      <td>Thẻ nhớ MicroSDXC SanDisk Extreme Pro 64GB 170...</td>\n",
       "      <td>Lieu Van Duc</td>\n",
       "      <td>THÔNG TIN CHI TIẾT\\nThương hiệu SanDisk\\nSKU 4...</td>\n",
       "    </tr>\n",
       "    <tr>\n",
       "      <th>8</th>\n",
       "      <td>WD</td>\n",
       "      <td>10</td>\n",
       "      <td>4.797944</td>\n",
       "      <td>https://salt.tikicdn.com/cache/280x280/ts/prod...</td>\n",
       "      <td>2590000</td>\n",
       "      <td>49729049</td>\n",
       "      <td>\"Ổ Cứng Di Dộng HDD WD My Passport 2TB 2.5\"\" U...</td>\n",
       "      <td>Lieu Van Duc</td>\n",
       "      <td>THÔNG TIN CHI TIẾT\\nThương hiệu WD\\nXuất xứ th...</td>\n",
       "    </tr>\n",
       "  </tbody>\n",
       "</table>\n",
       "</div>"
      ],
      "text/plain": [
       "               brand  customer_id  customer_rating  \\\n",
       "0           Fujifilm           10         4.892902   \n",
       "2  Việt Star Quốc Tế           10         4.885509   \n",
       "4              Nexus           10         4.831678   \n",
       "6            SanDisk           10         4.799589   \n",
       "8                 WD           10         4.797944   \n",
       "\n",
       "                                               image     price  product_id  \\\n",
       "0  https://salt.tikicdn.com/cache/280x280/ts/prod...  12790000    15287960   \n",
       "2  https://salt.tikicdn.com/cache/280x280/ts/prod...    354000    67985251   \n",
       "4  https://salt.tikicdn.com/cache/280x280/ts/prod...    590000    73844240   \n",
       "6  https://salt.tikicdn.com/cache/280x280/ts/prod...    450000     8321616   \n",
       "8  https://salt.tikicdn.com/cache/280x280/ts/prod...   2590000    49729049   \n",
       "\n",
       "                                        product_name          name  \\\n",
       "0  Ống Kính Fujifilm Fujinon 35mm F/1.4 R - Hàng ...  Lieu Van Duc   \n",
       "2  Camera Ip Giám Sát An Ninh Trong Nhà CC2020, 2...  Lieu Van Duc   \n",
       "4        Case máy tính MIK Nexus M - Hàng Chính Hãng  Lieu Van Duc   \n",
       "6  Thẻ nhớ MicroSDXC SanDisk Extreme Pro 64GB 170...  Lieu Van Duc   \n",
       "8  \"Ổ Cứng Di Dộng HDD WD My Passport 2TB 2.5\"\" U...  Lieu Van Duc   \n",
       "\n",
       "                                         description  \n",
       "0  THÔNG TIN CHI TIẾT\\nThương hiệu Fujifilm\\nSKU ...  \n",
       "2  THÔNG TIN CHI TIẾT\\nThương hiệu Việt Star Quốc...  \n",
       "4  THÔNG TIN CHI TIẾT\\nThương hiệu Nexus\\nXuất xứ...  \n",
       "6  THÔNG TIN CHI TIẾT\\nThương hiệu SanDisk\\nSKU 4...  \n",
       "8  THÔNG TIN CHI TIẾT\\nThương hiệu WD\\nXuất xứ th...  "
      ]
     },
     "execution_count": 56,
     "metadata": {},
     "output_type": "execute_result"
    }
   ],
   "source": [
    "df_merged23.head()"
   ]
  },
  {
   "cell_type": "code",
   "execution_count": 57,
   "id": "6dbda9a2",
   "metadata": {},
   "outputs": [
    {
     "data": {
      "text/plain": [
       "brand                 0\n",
       "customer_id           0\n",
       "customer_rating       0\n",
       "image                 0\n",
       "price                 0\n",
       "product_id            0\n",
       "product_name          0\n",
       "name               2650\n",
       "description         377\n",
       "dtype: int64"
      ]
     },
     "execution_count": 57,
     "metadata": {},
     "output_type": "execute_result"
    }
   ],
   "source": [
    "df_merged23.isnull().sum()"
   ]
  },
  {
   "cell_type": "code",
   "execution_count": 58,
   "id": "a08742cb",
   "metadata": {},
   "outputs": [],
   "source": [
    "df_merged23.to_csv(\"df_review_full.csv\", index=False, header=True)"
   ]
  },
  {
   "cell_type": "code",
   "execution_count": 59,
   "id": "4f20e7cd",
   "metadata": {},
   "outputs": [],
   "source": [
    "df_merged23_cut_200 = df_merged23.head(200000)"
   ]
  },
  {
   "cell_type": "code",
   "execution_count": 60,
   "id": "8a1c410f",
   "metadata": {},
   "outputs": [
    {
     "data": {
      "text/html": [
       "<div>\n",
       "<style scoped>\n",
       "    .dataframe tbody tr th:only-of-type {\n",
       "        vertical-align: middle;\n",
       "    }\n",
       "\n",
       "    .dataframe tbody tr th {\n",
       "        vertical-align: top;\n",
       "    }\n",
       "\n",
       "    .dataframe thead th {\n",
       "        text-align: right;\n",
       "    }\n",
       "</style>\n",
       "<table border=\"1\" class=\"dataframe\">\n",
       "  <thead>\n",
       "    <tr style=\"text-align: right;\">\n",
       "      <th></th>\n",
       "      <th>brand</th>\n",
       "      <th>customer_id</th>\n",
       "      <th>customer_rating</th>\n",
       "      <th>image</th>\n",
       "      <th>price</th>\n",
       "      <th>product_id</th>\n",
       "      <th>product_name</th>\n",
       "      <th>name</th>\n",
       "      <th>description</th>\n",
       "    </tr>\n",
       "  </thead>\n",
       "  <tbody>\n",
       "    <tr>\n",
       "      <th>0</th>\n",
       "      <td>Fujifilm</td>\n",
       "      <td>10</td>\n",
       "      <td>4.892902</td>\n",
       "      <td>https://salt.tikicdn.com/cache/280x280/ts/prod...</td>\n",
       "      <td>12790000</td>\n",
       "      <td>15287960</td>\n",
       "      <td>Ống Kính Fujifilm Fujinon 35mm F/1.4 R - Hàng ...</td>\n",
       "      <td>Lieu Van Duc</td>\n",
       "      <td>THÔNG TIN CHI TIẾT\\nThương hiệu Fujifilm\\nSKU ...</td>\n",
       "    </tr>\n",
       "    <tr>\n",
       "      <th>2</th>\n",
       "      <td>Việt Star Quốc Tế</td>\n",
       "      <td>10</td>\n",
       "      <td>4.885509</td>\n",
       "      <td>https://salt.tikicdn.com/cache/280x280/ts/prod...</td>\n",
       "      <td>354000</td>\n",
       "      <td>67985251</td>\n",
       "      <td>Camera Ip Giám Sát An Ninh Trong Nhà CC2020, 2...</td>\n",
       "      <td>Lieu Van Duc</td>\n",
       "      <td>THÔNG TIN CHI TIẾT\\nThương hiệu Việt Star Quốc...</td>\n",
       "    </tr>\n",
       "    <tr>\n",
       "      <th>4</th>\n",
       "      <td>Nexus</td>\n",
       "      <td>10</td>\n",
       "      <td>4.831678</td>\n",
       "      <td>https://salt.tikicdn.com/cache/280x280/ts/prod...</td>\n",
       "      <td>590000</td>\n",
       "      <td>73844240</td>\n",
       "      <td>Case máy tính MIK Nexus M - Hàng Chính Hãng</td>\n",
       "      <td>Lieu Van Duc</td>\n",
       "      <td>THÔNG TIN CHI TIẾT\\nThương hiệu Nexus\\nXuất xứ...</td>\n",
       "    </tr>\n",
       "    <tr>\n",
       "      <th>6</th>\n",
       "      <td>SanDisk</td>\n",
       "      <td>10</td>\n",
       "      <td>4.799589</td>\n",
       "      <td>https://salt.tikicdn.com/cache/280x280/ts/prod...</td>\n",
       "      <td>450000</td>\n",
       "      <td>8321616</td>\n",
       "      <td>Thẻ nhớ MicroSDXC SanDisk Extreme Pro 64GB 170...</td>\n",
       "      <td>Lieu Van Duc</td>\n",
       "      <td>THÔNG TIN CHI TIẾT\\nThương hiệu SanDisk\\nSKU 4...</td>\n",
       "    </tr>\n",
       "    <tr>\n",
       "      <th>8</th>\n",
       "      <td>WD</td>\n",
       "      <td>10</td>\n",
       "      <td>4.797944</td>\n",
       "      <td>https://salt.tikicdn.com/cache/280x280/ts/prod...</td>\n",
       "      <td>2590000</td>\n",
       "      <td>49729049</td>\n",
       "      <td>\"Ổ Cứng Di Dộng HDD WD My Passport 2TB 2.5\"\" U...</td>\n",
       "      <td>Lieu Van Duc</td>\n",
       "      <td>THÔNG TIN CHI TIẾT\\nThương hiệu WD\\nXuất xứ th...</td>\n",
       "    </tr>\n",
       "  </tbody>\n",
       "</table>\n",
       "</div>"
      ],
      "text/plain": [
       "               brand  customer_id  customer_rating  \\\n",
       "0           Fujifilm           10         4.892902   \n",
       "2  Việt Star Quốc Tế           10         4.885509   \n",
       "4              Nexus           10         4.831678   \n",
       "6            SanDisk           10         4.799589   \n",
       "8                 WD           10         4.797944   \n",
       "\n",
       "                                               image     price  product_id  \\\n",
       "0  https://salt.tikicdn.com/cache/280x280/ts/prod...  12790000    15287960   \n",
       "2  https://salt.tikicdn.com/cache/280x280/ts/prod...    354000    67985251   \n",
       "4  https://salt.tikicdn.com/cache/280x280/ts/prod...    590000    73844240   \n",
       "6  https://salt.tikicdn.com/cache/280x280/ts/prod...    450000     8321616   \n",
       "8  https://salt.tikicdn.com/cache/280x280/ts/prod...   2590000    49729049   \n",
       "\n",
       "                                        product_name          name  \\\n",
       "0  Ống Kính Fujifilm Fujinon 35mm F/1.4 R - Hàng ...  Lieu Van Duc   \n",
       "2  Camera Ip Giám Sát An Ninh Trong Nhà CC2020, 2...  Lieu Van Duc   \n",
       "4        Case máy tính MIK Nexus M - Hàng Chính Hãng  Lieu Van Duc   \n",
       "6  Thẻ nhớ MicroSDXC SanDisk Extreme Pro 64GB 170...  Lieu Van Duc   \n",
       "8  \"Ổ Cứng Di Dộng HDD WD My Passport 2TB 2.5\"\" U...  Lieu Van Duc   \n",
       "\n",
       "                                         description  \n",
       "0  THÔNG TIN CHI TIẾT\\nThương hiệu Fujifilm\\nSKU ...  \n",
       "2  THÔNG TIN CHI TIẾT\\nThương hiệu Việt Star Quốc...  \n",
       "4  THÔNG TIN CHI TIẾT\\nThương hiệu Nexus\\nXuất xứ...  \n",
       "6  THÔNG TIN CHI TIẾT\\nThương hiệu SanDisk\\nSKU 4...  \n",
       "8  THÔNG TIN CHI TIẾT\\nThương hiệu WD\\nXuất xứ th...  "
      ]
     },
     "execution_count": 60,
     "metadata": {},
     "output_type": "execute_result"
    }
   ],
   "source": [
    "df_merged23_cut_200.head()"
   ]
  },
  {
   "cell_type": "code",
   "execution_count": 61,
   "id": "5923d868",
   "metadata": {},
   "outputs": [
    {
     "data": {
      "text/plain": [
       "(200000, 9)"
      ]
     },
     "execution_count": 61,
     "metadata": {},
     "output_type": "execute_result"
    }
   ],
   "source": [
    "df_merged23_cut_200.shape"
   ]
  },
  {
   "cell_type": "code",
   "execution_count": 62,
   "id": "11addefe",
   "metadata": {},
   "outputs": [],
   "source": [
    "df_merged23_cut_200.to_csv(\"df_review_full_200.csv\", index=False, header=True)"
   ]
  },
  {
   "cell_type": "code",
   "execution_count": 63,
   "id": "05519a45",
   "metadata": {},
   "outputs": [],
   "source": [
    "df_merged23_cut_20 = df_merged23.head(20000)"
   ]
  },
  {
   "cell_type": "code",
   "execution_count": 64,
   "id": "1b8eb015",
   "metadata": {},
   "outputs": [
    {
     "data": {
      "text/html": [
       "<div>\n",
       "<style scoped>\n",
       "    .dataframe tbody tr th:only-of-type {\n",
       "        vertical-align: middle;\n",
       "    }\n",
       "\n",
       "    .dataframe tbody tr th {\n",
       "        vertical-align: top;\n",
       "    }\n",
       "\n",
       "    .dataframe thead th {\n",
       "        text-align: right;\n",
       "    }\n",
       "</style>\n",
       "<table border=\"1\" class=\"dataframe\">\n",
       "  <thead>\n",
       "    <tr style=\"text-align: right;\">\n",
       "      <th></th>\n",
       "      <th>brand</th>\n",
       "      <th>customer_id</th>\n",
       "      <th>customer_rating</th>\n",
       "      <th>image</th>\n",
       "      <th>price</th>\n",
       "      <th>product_id</th>\n",
       "      <th>product_name</th>\n",
       "      <th>name</th>\n",
       "      <th>description</th>\n",
       "    </tr>\n",
       "  </thead>\n",
       "  <tbody>\n",
       "    <tr>\n",
       "      <th>0</th>\n",
       "      <td>Fujifilm</td>\n",
       "      <td>10</td>\n",
       "      <td>4.892902</td>\n",
       "      <td>https://salt.tikicdn.com/cache/280x280/ts/prod...</td>\n",
       "      <td>12790000</td>\n",
       "      <td>15287960</td>\n",
       "      <td>Ống Kính Fujifilm Fujinon 35mm F/1.4 R - Hàng ...</td>\n",
       "      <td>Lieu Van Duc</td>\n",
       "      <td>THÔNG TIN CHI TIẾT\\nThương hiệu Fujifilm\\nSKU ...</td>\n",
       "    </tr>\n",
       "    <tr>\n",
       "      <th>2</th>\n",
       "      <td>Việt Star Quốc Tế</td>\n",
       "      <td>10</td>\n",
       "      <td>4.885509</td>\n",
       "      <td>https://salt.tikicdn.com/cache/280x280/ts/prod...</td>\n",
       "      <td>354000</td>\n",
       "      <td>67985251</td>\n",
       "      <td>Camera Ip Giám Sát An Ninh Trong Nhà CC2020, 2...</td>\n",
       "      <td>Lieu Van Duc</td>\n",
       "      <td>THÔNG TIN CHI TIẾT\\nThương hiệu Việt Star Quốc...</td>\n",
       "    </tr>\n",
       "    <tr>\n",
       "      <th>4</th>\n",
       "      <td>Nexus</td>\n",
       "      <td>10</td>\n",
       "      <td>4.831678</td>\n",
       "      <td>https://salt.tikicdn.com/cache/280x280/ts/prod...</td>\n",
       "      <td>590000</td>\n",
       "      <td>73844240</td>\n",
       "      <td>Case máy tính MIK Nexus M - Hàng Chính Hãng</td>\n",
       "      <td>Lieu Van Duc</td>\n",
       "      <td>THÔNG TIN CHI TIẾT\\nThương hiệu Nexus\\nXuất xứ...</td>\n",
       "    </tr>\n",
       "    <tr>\n",
       "      <th>6</th>\n",
       "      <td>SanDisk</td>\n",
       "      <td>10</td>\n",
       "      <td>4.799589</td>\n",
       "      <td>https://salt.tikicdn.com/cache/280x280/ts/prod...</td>\n",
       "      <td>450000</td>\n",
       "      <td>8321616</td>\n",
       "      <td>Thẻ nhớ MicroSDXC SanDisk Extreme Pro 64GB 170...</td>\n",
       "      <td>Lieu Van Duc</td>\n",
       "      <td>THÔNG TIN CHI TIẾT\\nThương hiệu SanDisk\\nSKU 4...</td>\n",
       "    </tr>\n",
       "    <tr>\n",
       "      <th>8</th>\n",
       "      <td>WD</td>\n",
       "      <td>10</td>\n",
       "      <td>4.797944</td>\n",
       "      <td>https://salt.tikicdn.com/cache/280x280/ts/prod...</td>\n",
       "      <td>2590000</td>\n",
       "      <td>49729049</td>\n",
       "      <td>\"Ổ Cứng Di Dộng HDD WD My Passport 2TB 2.5\"\" U...</td>\n",
       "      <td>Lieu Van Duc</td>\n",
       "      <td>THÔNG TIN CHI TIẾT\\nThương hiệu WD\\nXuất xứ th...</td>\n",
       "    </tr>\n",
       "  </tbody>\n",
       "</table>\n",
       "</div>"
      ],
      "text/plain": [
       "               brand  customer_id  customer_rating  \\\n",
       "0           Fujifilm           10         4.892902   \n",
       "2  Việt Star Quốc Tế           10         4.885509   \n",
       "4              Nexus           10         4.831678   \n",
       "6            SanDisk           10         4.799589   \n",
       "8                 WD           10         4.797944   \n",
       "\n",
       "                                               image     price  product_id  \\\n",
       "0  https://salt.tikicdn.com/cache/280x280/ts/prod...  12790000    15287960   \n",
       "2  https://salt.tikicdn.com/cache/280x280/ts/prod...    354000    67985251   \n",
       "4  https://salt.tikicdn.com/cache/280x280/ts/prod...    590000    73844240   \n",
       "6  https://salt.tikicdn.com/cache/280x280/ts/prod...    450000     8321616   \n",
       "8  https://salt.tikicdn.com/cache/280x280/ts/prod...   2590000    49729049   \n",
       "\n",
       "                                        product_name          name  \\\n",
       "0  Ống Kính Fujifilm Fujinon 35mm F/1.4 R - Hàng ...  Lieu Van Duc   \n",
       "2  Camera Ip Giám Sát An Ninh Trong Nhà CC2020, 2...  Lieu Van Duc   \n",
       "4        Case máy tính MIK Nexus M - Hàng Chính Hãng  Lieu Van Duc   \n",
       "6  Thẻ nhớ MicroSDXC SanDisk Extreme Pro 64GB 170...  Lieu Van Duc   \n",
       "8  \"Ổ Cứng Di Dộng HDD WD My Passport 2TB 2.5\"\" U...  Lieu Van Duc   \n",
       "\n",
       "                                         description  \n",
       "0  THÔNG TIN CHI TIẾT\\nThương hiệu Fujifilm\\nSKU ...  \n",
       "2  THÔNG TIN CHI TIẾT\\nThương hiệu Việt Star Quốc...  \n",
       "4  THÔNG TIN CHI TIẾT\\nThương hiệu Nexus\\nXuất xứ...  \n",
       "6  THÔNG TIN CHI TIẾT\\nThương hiệu SanDisk\\nSKU 4...  \n",
       "8  THÔNG TIN CHI TIẾT\\nThương hiệu WD\\nXuất xứ th...  "
      ]
     },
     "execution_count": 64,
     "metadata": {},
     "output_type": "execute_result"
    }
   ],
   "source": [
    "df_merged23_cut_20.head()"
   ]
  },
  {
   "cell_type": "code",
   "execution_count": 65,
   "id": "c2f28477",
   "metadata": {},
   "outputs": [],
   "source": [
    "df_merged23_cut_20.to_csv(\"df_review_full_20.csv\", index=False, header=True)"
   ]
  },
  {
   "cell_type": "code",
   "execution_count": 66,
   "id": "494a2633",
   "metadata": {},
   "outputs": [],
   "source": [
    "df_merged23_cut_20 = df_merged23.head(9000)"
   ]
  },
  {
   "cell_type": "code",
   "execution_count": 67,
   "id": "1696b3ad",
   "metadata": {},
   "outputs": [],
   "source": [
    "df_merged23_cut_20.to_csv(\"df_review_full_10.csv\", index=False, header=True)"
   ]
  },
  {
   "cell_type": "code",
   "execution_count": 70,
   "id": "1db880e4",
   "metadata": {},
   "outputs": [
    {
     "name": "stdout",
     "output_type": "stream",
     "text": [
      "     customer_id\n",
      "0             10\n",
      "1             27\n",
      "2             28\n",
      "3             36\n",
      "4             50\n",
      "..           ...\n",
      "881        25158\n",
      "882        25187\n",
      "883        25244\n",
      "884        25311\n",
      "885        25365\n",
      "\n",
      "[886 rows x 1 columns]\n"
     ]
    }
   ],
   "source": [
    "unique_customer_ids = df_merged23_cut_20['customer_id'].unique()\n",
    "unique_customer_ids = pd.DataFrame({'customer_id': unique_customer_ids}).sort_values('customer_id')\n",
    "print(unique_customer_ids)"
   ]
  },
  {
   "cell_type": "code",
   "execution_count": 71,
   "id": "c670f4b1",
   "metadata": {},
   "outputs": [
    {
     "name": "stderr",
     "output_type": "stream",
     "text": [
      "C:\\Users\\Admin\\AppData\\Local\\Temp\\ipykernel_580\\1585193458.py:1: SettingWithCopyWarning: \n",
      "A value is trying to be set on a copy of a slice from a DataFrame\n",
      "\n",
      "See the caveats in the documentation: https://pandas.pydata.org/pandas-docs/stable/user_guide/indexing.html#returning-a-view-versus-a-copy\n",
      "  df_merged23_cut_20.rename(columns={'name': 'customer_name'}, inplace=True)\n"
     ]
    }
   ],
   "source": [
    "df_merged23_cut_20.rename(columns={'name': 'customer_name'}, inplace=True)"
   ]
  },
  {
   "cell_type": "code",
   "execution_count": 72,
   "id": "9f795a8e",
   "metadata": {},
   "outputs": [
    {
     "data": {
      "text/html": [
       "<div>\n",
       "<style scoped>\n",
       "    .dataframe tbody tr th:only-of-type {\n",
       "        vertical-align: middle;\n",
       "    }\n",
       "\n",
       "    .dataframe tbody tr th {\n",
       "        vertical-align: top;\n",
       "    }\n",
       "\n",
       "    .dataframe thead th {\n",
       "        text-align: right;\n",
       "    }\n",
       "</style>\n",
       "<table border=\"1\" class=\"dataframe\">\n",
       "  <thead>\n",
       "    <tr style=\"text-align: right;\">\n",
       "      <th></th>\n",
       "      <th>brand</th>\n",
       "      <th>customer_id</th>\n",
       "      <th>customer_rating</th>\n",
       "      <th>image</th>\n",
       "      <th>price</th>\n",
       "      <th>product_id</th>\n",
       "      <th>product_name</th>\n",
       "      <th>customer_name</th>\n",
       "      <th>description</th>\n",
       "    </tr>\n",
       "  </thead>\n",
       "  <tbody>\n",
       "    <tr>\n",
       "      <th>0</th>\n",
       "      <td>Fujifilm</td>\n",
       "      <td>10</td>\n",
       "      <td>4.892902</td>\n",
       "      <td>https://salt.tikicdn.com/cache/280x280/ts/prod...</td>\n",
       "      <td>12790000</td>\n",
       "      <td>15287960</td>\n",
       "      <td>Ống Kính Fujifilm Fujinon 35mm F/1.4 R - Hàng ...</td>\n",
       "      <td>Lieu Van Duc</td>\n",
       "      <td>THÔNG TIN CHI TIẾT\\nThương hiệu Fujifilm\\nSKU ...</td>\n",
       "    </tr>\n",
       "    <tr>\n",
       "      <th>2</th>\n",
       "      <td>Việt Star Quốc Tế</td>\n",
       "      <td>10</td>\n",
       "      <td>4.885509</td>\n",
       "      <td>https://salt.tikicdn.com/cache/280x280/ts/prod...</td>\n",
       "      <td>354000</td>\n",
       "      <td>67985251</td>\n",
       "      <td>Camera Ip Giám Sát An Ninh Trong Nhà CC2020, 2...</td>\n",
       "      <td>Lieu Van Duc</td>\n",
       "      <td>THÔNG TIN CHI TIẾT\\nThương hiệu Việt Star Quốc...</td>\n",
       "    </tr>\n",
       "    <tr>\n",
       "      <th>4</th>\n",
       "      <td>Nexus</td>\n",
       "      <td>10</td>\n",
       "      <td>4.831678</td>\n",
       "      <td>https://salt.tikicdn.com/cache/280x280/ts/prod...</td>\n",
       "      <td>590000</td>\n",
       "      <td>73844240</td>\n",
       "      <td>Case máy tính MIK Nexus M - Hàng Chính Hãng</td>\n",
       "      <td>Lieu Van Duc</td>\n",
       "      <td>THÔNG TIN CHI TIẾT\\nThương hiệu Nexus\\nXuất xứ...</td>\n",
       "    </tr>\n",
       "    <tr>\n",
       "      <th>6</th>\n",
       "      <td>SanDisk</td>\n",
       "      <td>10</td>\n",
       "      <td>4.799589</td>\n",
       "      <td>https://salt.tikicdn.com/cache/280x280/ts/prod...</td>\n",
       "      <td>450000</td>\n",
       "      <td>8321616</td>\n",
       "      <td>Thẻ nhớ MicroSDXC SanDisk Extreme Pro 64GB 170...</td>\n",
       "      <td>Lieu Van Duc</td>\n",
       "      <td>THÔNG TIN CHI TIẾT\\nThương hiệu SanDisk\\nSKU 4...</td>\n",
       "    </tr>\n",
       "    <tr>\n",
       "      <th>8</th>\n",
       "      <td>WD</td>\n",
       "      <td>10</td>\n",
       "      <td>4.797944</td>\n",
       "      <td>https://salt.tikicdn.com/cache/280x280/ts/prod...</td>\n",
       "      <td>2590000</td>\n",
       "      <td>49729049</td>\n",
       "      <td>\"Ổ Cứng Di Dộng HDD WD My Passport 2TB 2.5\"\" U...</td>\n",
       "      <td>Lieu Van Duc</td>\n",
       "      <td>THÔNG TIN CHI TIẾT\\nThương hiệu WD\\nXuất xứ th...</td>\n",
       "    </tr>\n",
       "  </tbody>\n",
       "</table>\n",
       "</div>"
      ],
      "text/plain": [
       "               brand  customer_id  customer_rating  \\\n",
       "0           Fujifilm           10         4.892902   \n",
       "2  Việt Star Quốc Tế           10         4.885509   \n",
       "4              Nexus           10         4.831678   \n",
       "6            SanDisk           10         4.799589   \n",
       "8                 WD           10         4.797944   \n",
       "\n",
       "                                               image     price  product_id  \\\n",
       "0  https://salt.tikicdn.com/cache/280x280/ts/prod...  12790000    15287960   \n",
       "2  https://salt.tikicdn.com/cache/280x280/ts/prod...    354000    67985251   \n",
       "4  https://salt.tikicdn.com/cache/280x280/ts/prod...    590000    73844240   \n",
       "6  https://salt.tikicdn.com/cache/280x280/ts/prod...    450000     8321616   \n",
       "8  https://salt.tikicdn.com/cache/280x280/ts/prod...   2590000    49729049   \n",
       "\n",
       "                                        product_name customer_name  \\\n",
       "0  Ống Kính Fujifilm Fujinon 35mm F/1.4 R - Hàng ...  Lieu Van Duc   \n",
       "2  Camera Ip Giám Sát An Ninh Trong Nhà CC2020, 2...  Lieu Van Duc   \n",
       "4        Case máy tính MIK Nexus M - Hàng Chính Hãng  Lieu Van Duc   \n",
       "6  Thẻ nhớ MicroSDXC SanDisk Extreme Pro 64GB 170...  Lieu Van Duc   \n",
       "8  \"Ổ Cứng Di Dộng HDD WD My Passport 2TB 2.5\"\" U...  Lieu Van Duc   \n",
       "\n",
       "                                         description  \n",
       "0  THÔNG TIN CHI TIẾT\\nThương hiệu Fujifilm\\nSKU ...  \n",
       "2  THÔNG TIN CHI TIẾT\\nThương hiệu Việt Star Quốc...  \n",
       "4  THÔNG TIN CHI TIẾT\\nThương hiệu Nexus\\nXuất xứ...  \n",
       "6  THÔNG TIN CHI TIẾT\\nThương hiệu SanDisk\\nSKU 4...  \n",
       "8  THÔNG TIN CHI TIẾT\\nThương hiệu WD\\nXuất xứ th...  "
      ]
     },
     "execution_count": 72,
     "metadata": {},
     "output_type": "execute_result"
    }
   ],
   "source": [
    "df_merged23_cut_20.head()"
   ]
  },
  {
   "cell_type": "code",
   "execution_count": 73,
   "id": "9fbc27c0",
   "metadata": {},
   "outputs": [],
   "source": [
    "df_merged23_cut_20.to_csv(\"df_review_full_10.csv\", index=False, header=True)"
   ]
  },
  {
   "cell_type": "code",
   "execution_count": 74,
   "id": "25df6b4e",
   "metadata": {},
   "outputs": [
    {
     "data": {
      "text/plain": [
       "Index(['brand', 'customer_id', 'customer_rating', 'image', 'price',\n",
       "       'product_id', 'product_name', 'customer_name', 'description'],\n",
       "      dtype='object')"
      ]
     },
     "execution_count": 74,
     "metadata": {},
     "output_type": "execute_result"
    }
   ],
   "source": [
    "df_merged23_cut_20.columns"
   ]
  },
  {
   "cell_type": "code",
   "execution_count": 75,
   "id": "40178bdd",
   "metadata": {},
   "outputs": [],
   "source": [
    "unique_customer_name = df_merged23_cut_20['customer_name'].unique()\n",
    "unique_customer_name = pd.DataFrame({'customer_name': unique_customer_name}).sort_values('customer_name')"
   ]
  },
  {
   "cell_type": "code",
   "execution_count": 76,
   "id": "0c8cf7de",
   "metadata": {},
   "outputs": [
    {
     "data": {
      "text/html": [
       "<div>\n",
       "<style scoped>\n",
       "    .dataframe tbody tr th:only-of-type {\n",
       "        vertical-align: middle;\n",
       "    }\n",
       "\n",
       "    .dataframe tbody tr th {\n",
       "        vertical-align: top;\n",
       "    }\n",
       "\n",
       "    .dataframe thead th {\n",
       "        text-align: right;\n",
       "    }\n",
       "</style>\n",
       "<table border=\"1\" class=\"dataframe\">\n",
       "  <thead>\n",
       "    <tr style=\"text-align: right;\">\n",
       "      <th></th>\n",
       "      <th>customer_name</th>\n",
       "    </tr>\n",
       "  </thead>\n",
       "  <tbody>\n",
       "    <tr>\n",
       "      <th>692</th>\n",
       "      <td>An Bui</td>\n",
       "    </tr>\n",
       "    <tr>\n",
       "      <th>317</th>\n",
       "      <td>Angelina Borrison</td>\n",
       "    </tr>\n",
       "    <tr>\n",
       "      <th>832</th>\n",
       "      <td>Anh Phương</td>\n",
       "    </tr>\n",
       "    <tr>\n",
       "      <th>21</th>\n",
       "      <td>Anh Trung</td>\n",
       "    </tr>\n",
       "    <tr>\n",
       "      <th>109</th>\n",
       "      <td>Anh Tuấn</td>\n",
       "    </tr>\n",
       "    <tr>\n",
       "      <th>...</th>\n",
       "      <td>...</td>\n",
       "    </tr>\n",
       "    <tr>\n",
       "      <th>140</th>\n",
       "      <td>đinh văn phong</td>\n",
       "    </tr>\n",
       "    <tr>\n",
       "      <th>165</th>\n",
       "      <td>đàm  trường kỳ</td>\n",
       "    </tr>\n",
       "    <tr>\n",
       "      <th>192</th>\n",
       "      <td>đào vũ anh  thư</td>\n",
       "    </tr>\n",
       "    <tr>\n",
       "      <th>466</th>\n",
       "      <td>đòan hồng nhật</td>\n",
       "    </tr>\n",
       "    <tr>\n",
       "      <th>197</th>\n",
       "      <td>đặng nhung</td>\n",
       "    </tr>\n",
       "  </tbody>\n",
       "</table>\n",
       "<p>893 rows × 1 columns</p>\n",
       "</div>"
      ],
      "text/plain": [
       "         customer_name\n",
       "692             An Bui\n",
       "317  Angelina Borrison\n",
       "832         Anh Phương\n",
       "21           Anh Trung\n",
       "109           Anh Tuấn\n",
       "..                 ...\n",
       "140     đinh văn phong\n",
       "165     đàm  trường kỳ\n",
       "192   đào vũ anh  thư \n",
       "466     đòan hồng nhật\n",
       "197         đặng nhung\n",
       "\n",
       "[893 rows x 1 columns]"
      ]
     },
     "execution_count": 76,
     "metadata": {},
     "output_type": "execute_result"
    }
   ],
   "source": [
    "unique_customer_name"
   ]
  },
  {
   "cell_type": "code",
   "execution_count": 77,
   "id": "02b3576a",
   "metadata": {},
   "outputs": [
    {
     "data": {
      "text/plain": [
       "Index(['customer_name'], dtype='object')"
      ]
     },
     "execution_count": 77,
     "metadata": {},
     "output_type": "execute_result"
    }
   ],
   "source": [
    "unique_customer_name.columns"
   ]
  },
  {
   "cell_type": "code",
   "execution_count": null,
   "id": "5057905d",
   "metadata": {},
   "outputs": [],
   "source": []
  }
 ],
 "metadata": {
  "kernelspec": {
   "display_name": "Python 3 (ipykernel)",
   "language": "python",
   "name": "python3"
  },
  "language_info": {
   "codemirror_mode": {
    "name": "ipython",
    "version": 3
   },
   "file_extension": ".py",
   "mimetype": "text/x-python",
   "name": "python",
   "nbconvert_exporter": "python",
   "pygments_lexer": "ipython3",
   "version": "3.9.13"
  }
 },
 "nbformat": 4,
 "nbformat_minor": 5
}
